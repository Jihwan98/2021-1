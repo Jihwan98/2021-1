{
 "cells": [
  {
   "cell_type": "code",
   "execution_count": 1,
   "id": "yellow-agency",
   "metadata": {},
   "outputs": [],
   "source": [
    "import numpy as np"
   ]
  },
  {
   "cell_type": "code",
   "execution_count": 28,
   "id": "interpreted-container",
   "metadata": {
    "scrolled": true
   },
   "outputs": [
    {
     "name": "stderr",
     "output_type": "stream",
     "text": [
      "<ipython-input-28-e4addfa5dce5>:1: DeprecationWarning: `np.int` is a deprecated alias for the builtin `int`. To silence this warning, use `int` by itself. Doing this will not modify any behavior and is safe. When replacing `np.int`, you may wish to use e.g. `np.int64` or `np.int32` to specify the precision. If you wish to review your current use, check the release note link for additional information.\n",
      "Deprecated in NumPy 1.20; for more details and guidance: https://numpy.org/devdocs/release/1.20.0-notes.html#deprecations\n",
      "  def n_size_ndarray_creation(n, dtype=np.int):\n"
     ]
    }
   ],
   "source": [
    "# 문제를 잘 못 이해함\n",
    "# def n_size_ndarray_creation(n, dtype=np.int):\n",
    "#     array = np.zeros((n,n))\n",
    "#     for i in range(0,n):\n",
    "#         array[i][i] = i**2\n",
    "#     return array\n",
    "\n",
    "def n_size_ndarray_creation(n, dtype=np.int):\n",
    "    array = np.arange(n**2).reshape(n,n)\n",
    "    return array"
   ]
  },
  {
   "cell_type": "code",
   "execution_count": null,
   "id": "bizarre-testing",
   "metadata": {},
   "outputs": [],
   "source": []
  },
  {
   "cell_type": "code",
   "execution_count": 211,
   "id": "swiss-giant",
   "metadata": {},
   "outputs": [
    {
     "name": "stderr",
     "output_type": "stream",
     "text": [
      "<ipython-input-211-2c50860bedf4>:1: DeprecationWarning: `np.int` is a deprecated alias for the builtin `int`. To silence this warning, use `int` by itself. Doing this will not modify any behavior and is safe. When replacing `np.int`, you may wish to use e.g. `np.int64` or `np.int32` to specify the precision. If you wish to review your current use, check the release note link for additional information.\n",
      "Deprecated in NumPy 1.20; for more details and guidance: https://numpy.org/devdocs/release/1.20.0-notes.html#deprecations\n",
      "  def zero_or_one_or_empty_ndarray(shape, type_ndarray=0, dtype=np.int):\n"
     ]
    }
   ],
   "source": [
    "def zero_or_one_or_empty_ndarray(shape, type_ndarray=0, dtype=np.int):\n",
    "    if type_ndarray == 0:\n",
    "        array = np.zeros(shape, dtype)\n",
    "    elif type_ndarray == 1:\n",
    "        array = np.ones(shape, dtype)\n",
    "    elif type_ndarray == 99:\n",
    "        array = np.empty(shape, dtype)\n",
    "    \n",
    "    return array"
   ]
  },
  {
   "cell_type": "code",
   "execution_count": 212,
   "id": "stretch-happiness",
   "metadata": {},
   "outputs": [
    {
     "data": {
      "text/plain": [
       "array([[16843009, 16843009, 16843009, 16843009, 16843009],\n",
       "       [16843009, 16843009, 16843009, 16843009, 16843009],\n",
       "       [16843009, 16843009, 16843009, 16843009, 16843009],\n",
       "       [16843009, 16843009, 16843009, 16843009, 16843009],\n",
       "       [16843009, 16843009, 16843009, 16843009, 16843009]])"
      ]
     },
     "execution_count": 212,
     "metadata": {},
     "output_type": "execute_result"
    }
   ],
   "source": [
    "zero_or_one_or_empty_ndarray( (5,5) , type_ndarray=99)"
   ]
  },
  {
   "cell_type": "code",
   "execution_count": 41,
   "id": "political-robin",
   "metadata": {},
   "outputs": [],
   "source": [
    "def change_shape_of_ndarray(X, n_row):\n",
    "    if n_row != 1:\n",
    "        array = X.reshape(n_row,-1)\n",
    "        return array\n",
    "    else:\n",
    "        vector = X.flatten()\n",
    "        return vector"
   ]
  },
  {
   "cell_type": "code",
   "execution_count": 84,
   "id": "declared-answer",
   "metadata": {},
   "outputs": [],
   "source": [
    "def concat_ndarray(X_1, X_2, axis):\n",
    "    if len(list(X_1.shape)) == 1:\n",
    "        X_1 = X_1.reshape(1,-1)\n",
    "    if len(list(X_2.shape)) == 1:\n",
    "        X_2 = X_2.reshape(1,-1)\n",
    "    \n",
    "    try:\n",
    "        array = np.concatenate((X_1, X_2), axis=axis)\n",
    "        return array\n",
    "    \n",
    "    except:\n",
    "        return False"
   ]
  },
  {
   "cell_type": "code",
   "execution_count": 204,
   "id": "municipal-organizer",
   "metadata": {},
   "outputs": [],
   "source": [
    "def normalize_ndarray(X, axis=99, dtype=np.float32):\n",
    "    if axis == 99:\n",
    "        array = (X-np.mean(X))/np.std(X)\n",
    "#     elif axis == 0:\n",
    "#         l = list(X.shape)[0]\n",
    "#         array = (X[0:]-np.mean(X[0:]))/np.std(X[0:])\n",
    "#         for i in range(1,l):\n",
    "#             array = np.concatenate((array,(X[i:]-np.mean(X[i:]))/np.std(X[i:])),axis=0)\n",
    "#     elif axis == 1:\n",
    "#         l = list(X.shape)[1]\n",
    "#         array = (X[:0]-np.mean(X[:0]))/np.std(X[:0])\n",
    "#         for i in range(1,l):\n",
    "#             array = np.concatenate((array,(X[:i]-np.mean(X[:i]))/np.std(X[:i])),axis=1)\n",
    "    \n",
    "    return array"
   ]
  },
  {
   "cell_type": "code",
   "execution_count": 121,
   "id": "unlimited-finish",
   "metadata": {},
   "outputs": [],
   "source": [
    "def save_ndarray(X, filename=\"test.npy\"):\n",
    "    np.save(filename, arr=X)"
   ]
  },
  {
   "cell_type": "code",
   "execution_count": 137,
   "id": "married-malpractice",
   "metadata": {},
   "outputs": [],
   "source": [
    "def boolean_index(X, condition):\n",
    "    b = np.where(eval(str(\"X\") + condition))\n",
    "    return b"
   ]
  },
  {
   "cell_type": "code",
   "execution_count": 173,
   "id": "color-daughter",
   "metadata": {},
   "outputs": [],
   "source": [
    "def find_nearest_value(X, target_value):\n",
    "    gap_before = abs(X[0] - target_value)\n",
    "    result = X[0]\n",
    "    for i in X:\n",
    "        gap_now = abs(i - target_value)\n",
    "        if gap_now < gap_before:\n",
    "            gap_before = gap_now\n",
    "            result = i\n",
    "    return result"
   ]
  },
  {
   "cell_type": "code",
   "execution_count": 195,
   "id": "practical-tutorial",
   "metadata": {},
   "outputs": [],
   "source": [
    "def get_n_largest_values(X, n):\n",
    "    array = np.empty(0,)\n",
    "    for i in range(0,n):\n",
    "        array = np.append(array, X[np.argmax(X)])\n",
    "        X = np.delete(X, np.argmax(X))        \n",
    "        \n",
    "    return array"
   ]
  },
  {
   "cell_type": "code",
   "execution_count": null,
   "id": "utility-resort",
   "metadata": {},
   "outputs": [],
   "source": []
  }
 ],
 "metadata": {
  "kernelspec": {
   "display_name": "data_science",
   "language": "python",
   "name": "data_science"
  },
  "language_info": {
   "codemirror_mode": {
    "name": "ipython",
    "version": 3
   },
   "file_extension": ".py",
   "mimetype": "text/x-python",
   "name": "python",
   "nbconvert_exporter": "python",
   "pygments_lexer": "ipython3",
   "version": "3.8.8"
  }
 },
 "nbformat": 4,
 "nbformat_minor": 5
}
