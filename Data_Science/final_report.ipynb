{
 "cells": [
  {
   "cell_type": "markdown",
   "id": "representative-funds",
   "metadata": {},
   "source": [
    "# 화재발생여부를 예측하는 것이 목적\n",
    "- binary classification\n",
    "\n",
    "## 데이터 설명\n",
    "- id    아이디(분석에 미사용)\n",
    "- dt_of_fr    화재발생일시\n",
    "- fr_yn    화재발생여부\n",
    "- bldng_us    건물용도\n",
    "- bldng_archtctr    건물구조\n",
    "- bldng_cnt    건물채수\n",
    "- bldng_ar    건물건축면적\n",
    "- ttl_ar    건물연면적(건물층별합계전체 면적)\n",
    "- lnd_ar    토지면적\n",
    "- dt_of_arthrztn    건물승인일자\n",
    "- ttl_grnd_flr    건물들의 지상 층수의 합\n",
    "- ttl_dwn_fr    건물들의 지하 층수의 합\n",
    "- bldng_us_clssfctn    건물용도분류명\n",
    "- tmprtr    온도(c)\n",
    "- prcpttn    강수량\n",
    "- wnd_spd    풍속\n",
    "- wnd_drctn    풍향\n",
    "- hmdt    습도\n",
    "- ele_engry_us_201401    전기 에너지 사용량(2014월1월)\n",
    "- ele_engry_us_201812    전기 에너지 사용량(2018월12월)\n",
    "- gas_engry_us_201401    가스 에너지 사용량(2014월1월)\n",
    "- gas_engry_us_201812    가스 에너지 사용량(2018월12월)\n",
    "- lw_13101010    복도/계단/출입구의 성능 유지여부(0~5)\n",
    "- lw_13101110    옥상광장의 피난성능 유지여부(0~5)\n",
    "- lw_13101210    방화문/방화셔터 등의 성능 유지여부(0~5)\n",
    "- lw_13101211    방화구획 적합 여부(0~5)\n",
    "- lw_13101310    경계벽 및 칸막이벽의 변경 등 방화성능 유지여부(0~5)\n",
    "- lw_13101410    배연설비의 성능 유지여부(0~5)\n",
    "- lw_13111010    내화구조의 성능 유지여부(0~5)\n",
    "- lw_13111110    방화벽의 성능 유지여부(0~5)\n",
    "- lw_13121010    외벽의 성능 유지여부(0~5)\n",
    "- lw_13121011    창호의 성능 유지여부(0~5)\n",
    "- lw_13131010    내부마감의 방화성능 유지여부(0~5)\n",
    "- lw_13131110    외부마감의 노후화 및 마감재 탈락 여부(0~5)\n",
    "- lw_13141010    지하층의 소방설비 성능 유지여부(0~5)\n",
    "- lw_13141011    지하층 피난구/피난계단의 성능 유지여부(0~5)\n",
    "- jmk    지적상 지목\n",
    "- rgnl_ar_nm    용도지역지구명\n",
    "- rgnl_ar_nm2    용도지역지구명2\n",
    "- lnd_us_sttn_nm    토지이용상황명\n",
    "- rd_sd_nm    도로측면명\n",
    "- emd_nm    행정구역명\n",
    "- hm_cnt    행정구역 인구\n",
    "- fr_sttn_dstnc    119 안전센터와의 거리\n",
    "- bldng_ar_prc    단위 면적당 건물 가격(2019년)\n",
    "- fr_wthr_fclt_dstnc    소방용수시설(소화전 등)과의 최소 거리\n",
    "- fr_mn_cnt    관할 소방서 인원\n",
    "- mlt_us_yn    다중이용시설 포함여부\n",
    "- cctv_dstnc    공공 CCTV와의 최소 거리\n",
    "- cctv_in_100m    반경 100m 이내 공공 CCTV\n",
    "- fr_wthr_fclt_in_100m    반경 100m 이내 소방용수 시설 수\n",
    "- tbc_rtl_str_dstnc    담배 소매점과의 최소 거리\n",
    "- sft_emrgnc_bll_dstnc    안전 비상벨과의 최소 거리\n",
    "- ahsm_dstnc    자동 심장 충격기와의 최소 거리\n",
    "- no_tbc_zn_dstnc    금연구역과의 최소 거리\n",
    "- trgt_crtr    소방관리대상물기준\n",
    "- fr_fghtng_fclt_spcl_css_5_yn    소방시설특례5호여부\n",
    "- fr_fghtng_fclt_spcl_css_6_yn    소방시설특례6호여부\n",
    "- us_yn    사용여부\n",
    "- dngrs_thng_yn    위험물대상여부\n",
    "- slf_fr_brgd_yn    자체소방대여부\n",
    "- blk_dngrs_thng_mnfctr_yn    대량위험물제조소등여부\n",
    "- cltrl_hrtg_yn    문화재여부"
   ]
  },
  {
   "cell_type": "code",
   "execution_count": 1,
   "id": "yellow-fossil",
   "metadata": {},
   "outputs": [],
   "source": [
    "import pandas as pd\n",
    "import numpy as np\n",
    "import os\n",
    "import matplotlib.pyplot as plt\n",
    "import datetime as dt\n",
    "from collections import Counter\n",
    "\n",
    "import seaborn as sns\n",
    "sns.set(style=\"white\")\n",
    "sns.set(style=\"whitegrid\", color_codes=True)"
   ]
  },
  {
   "cell_type": "code",
   "execution_count": 2,
   "id": "assured-secretariat",
   "metadata": {},
   "outputs": [],
   "source": [
    "from matplotlib import font_manager, rc\n",
    "font_name = font_manager.FontProperties(fname=\"c:/Windows/Fonts/malgun.ttf\").get_name()\n",
    "rc('font', family=font_name)\n",
    "plt.rc('font', size=12)"
   ]
  },
  {
   "cell_type": "code",
   "execution_count": 3,
   "id": "lyric-proceeding",
   "metadata": {},
   "outputs": [],
   "source": [
    "DATA_DIR = './data'\n",
    "TRAIN_DATA = 'train.csv'\n",
    "TEST_DATA = 'test.csv'\n",
    "\n",
    "TRAIN_PATH = os.path.join(DATA_DIR, TRAIN_DATA)\n",
    "TEST_PATH = os.path.join(DATA_DIR, TEST_DATA)"
   ]
  },
  {
   "cell_type": "code",
   "execution_count": 4,
   "id": "addressed-ballet",
   "metadata": {},
   "outputs": [
    {
     "name": "stderr",
     "output_type": "stream",
     "text": [
      "C:\\Users\\zxwlg\\miniconda3\\envs\\Data_Science\\lib\\site-packages\\IPython\\core\\interactiveshell.py:3166: DtypeWarning: Columns (8) have mixed types.Specify dtype option on import or set low_memory=False.\n",
      "  interactivity=interactivity, compiler=compiler, result=result)\n"
     ]
    }
   ],
   "source": [
    "df_train = pd.read_csv(TRAIN_PATH)\n",
    "df_test = pd.read_csv(TEST_PATH)\n",
    "df = pd.concat([df_train, df_test])\n",
    "\n",
    "df = df.reset_index(drop=True)\n",
    "\n",
    "# Train Data 와 Test Data 의 개수\n",
    "number_of_train_data = df_train.shape[0]\n",
    "number_of_test_data = df_test.shape[0]\n",
    "\n",
    "df.rename(columns={\"id\":\"아이디\",\n",
    "  \"dt_of_fr\": \"화재발생일시\",\n",
    "  \"bldng_us\":\"건물용도\",\n",
    "  \"bldng_archtctr\":\"건물구조\",\n",
    "  \"bldng_cnt\":\"건물채수\",\n",
    "  \"bldng_ar\":\"건물건축면적\",\n",
    "  \"ttl_ar\":\"건물층별합계전체면적\",\n",
    "  \"lnd_ar\":\"토지면적\" ,\n",
    "  \"dt_of_athrztn\":\"건물승인일자\" ,\n",
    "  \"ttl_grnd_flr\":\"건물들지상층수합\" ,\n",
    "  \"ttl_dwn_flr\":\"건물들지하층수합\",\n",
    "  \"bldng_us_clssfctn\":\"건물용도분류명\",\n",
    "  \"prcpttn\": \"강수량\",\n",
    "  \"tmprtr\":\"온도\",\n",
    "  \"wnd_spd\":\"풍속\" ,\n",
    "   \"wnd_drctn\":\"풍향\",\n",
    "  \"hmdt\":\"습도\",\n",
    "  \"jmk\":\"지적상지목\",\n",
    "   \"rgnl_ar_nm\":\"용도지역지구명\",\n",
    "  \"rgnl_ar_nm2\":\"용도지역지구명2\",\n",
    "  \"lnd_us_sttn_nm\":\"토지이용상황명\",\n",
    "   \"rd_sd_nm\":\"도로측면명\",\n",
    "   \"emd_nm\":\"행정구역명\",\n",
    "   \"hm_cnt\":\"행정구역인구\",\n",
    "   \"fr_sttn_dstnc\":\"소방서거리\",\n",
    "   \"bldng_ar_prc\":\"건물면적당가격\",\n",
    "   \"fr_wthr_fclt_dstnc\":\"소방용수시설거리\",\n",
    "   \"fr_mn_cnt\":\"관할소방서인원\",\n",
    "   \"mlt_us_yn\":\"다중이용시설여부\",\n",
    "   \"cctv_dstnc\":\"공공CCTV거리\",\n",
    "   \"cctv_in_100m\":\"백미터이내CCTV수\",\n",
    "   \"fr_wthr_fclt_in_100m\":\"백미터이내소방용수시설수\",\n",
    "   \"tbc_rtl_str_dstnc\":\"담배소매점거리\",\n",
    "   \"sft_emrgnc_bll_dstnc\":\"안전비상벨최소거리\",\n",
    "   \"ahsm_dstnc\":\"자동심장충격기거리\",\n",
    "   \"no_tbc_zn_dstnc\":\"금연구역최소거리\",\n",
    "   \"bldng_cnt_in_50m\":\"반경50m건물수\",\n",
    "   \"fr_yn\":\"화재발생\",\n",
    "   \"trgt_crtr\":\"소방점검대상물기준\",\n",
    "   \"fr_fghtng_fclt_spcl_css_5_yn\":\"소방시설특례5호여부\",\n",
    "   \"fr_fghtng_fclt_spcl_css_6_yn\":\"소방시설특례6호여부\",\n",
    "   \"us_yn\":\"사용여부\",\n",
    "   \"dngrs_thng_yn\":\"위험물대상여부\",\n",
    "   \"slf_fr_brgd_yn\":\"자체소방대여부\",\n",
    "   \"blk_dngrs_thng_mnfctr_yn\":\"대량위험물제조소등여부\",\n",
    "   \"cltrl_hrtg_yn\":\"문화재여부\"}, inplace=True)\n",
    "\n",
    "y_train = df_train[\"fr_yn\"]\n",
    "y_train_onehot = pd.get_dummies(df_train[[\"fr_yn\"]])\n",
    "\n",
    "# df = df.drop('화재발생', axis=1)"
   ]
  },
  {
   "cell_type": "markdown",
   "id": "solid-sender",
   "metadata": {},
   "source": [
    "# 데이터 전처리\n",
    "## 화재발생일시 시간 전처리"
   ]
  },
  {
   "cell_type": "code",
   "execution_count": 5,
   "id": "sweet-distance",
   "metadata": {},
   "outputs": [],
   "source": [
    "date_time = [i.split(\" \") for i in df[\"화재발생일시\"].tolist()]\n",
    "# 날짜,시간 만들기\n",
    "date = []\n",
    "time = []\n",
    "for i in date_time:\n",
    "    date.append(i[0])\n",
    "    time.append(i[1])\n",
    "\n",
    "date = [dt.datetime.strptime(char, \"%Y-%m-%d\") for char in date]\n",
    "time = [int(char[0:2]) for char in time]\n",
    "\n",
    "df[\"날짜\"] = date\n",
    "df[\"시간\"] = time\n",
    "\n",
    "# 년, 월 만들기\n",
    "df['월'] =[month.month for month in date]\n",
    "df['년도'] = [year.year for year in date]\n",
    "\n",
    "# 계절 만들기\n",
    "spring = [3,4,5]; summer = [6,7,8]; fall = [9,10]; winter = [10,11,1,2]\n",
    "season = ['봄' if i in spring else '여름' if i in summer else '가을' if i in fall else '겨울' for i in df['월']]\n",
    "df['계절'] = season\n",
    "\n",
    "# 24시간 새벽,오전오후,저녁으로 나누기\n",
    "seperate_four = []\n",
    "for season, time in zip(df['계절'], df['시간']):\n",
    "    if season == '겨울' and time >= 0 and time <= 8:\n",
    "        seperate_four.append('새벽')\n",
    "    elif season == '겨울' and time > 8 and time <= 12:\n",
    "        seperate_four.append('오전')\n",
    "    elif season == '겨울' and time > 12 and time < 18:\n",
    "        seperate_four.append('오후')\n",
    "    elif season == '겨울' and time >= 18 and time <= 23:\n",
    "        seperate_four.append('저녁')    \n",
    "    elif season == '봄' and time >= 0 and time <= 7:\n",
    "        seperate_four.append('새벽')\n",
    "    elif season == '봄' and time > 7 and time <= 12:\n",
    "        seperate_four.append('오전')\n",
    "    elif season == '봄' and time > 12 and time < 19:\n",
    "        seperate_four.append('오후')\n",
    "    elif season == '봄' and time >= 19 and time <= 23:\n",
    "        seperate_four.append('저녁')\n",
    "    elif season == '여름' and time >= 0 and time <= 6:\n",
    "        seperate_four.append('새벽')\n",
    "    elif season == '여름' and time > 6 and time <= 12:\n",
    "        seperate_four.append('오전')\n",
    "    elif season == '여름' and time > 12 and time < 20:\n",
    "        seperate_four.append('오후')\n",
    "    elif season == '여름' and time >= 20 and time <= 23:\n",
    "        seperate_four.append('저녁')\n",
    "    elif season == '가을' and time >= 0 and time <= 7:\n",
    "        seperate_four.append('새벽')\n",
    "    elif season == '가을' and time > 7 and time <= 12:\n",
    "        seperate_four.append('오전')\n",
    "    elif season == '가을' and time > 12 and time < 19:\n",
    "        seperate_four.append('오후')\n",
    "    elif season == '가을' and time >= 19 and time <= 23:\n",
    "        seperate_four.append('저녁')\n",
    "\n",
    "df['하루분기'] = seperate_four"
   ]
  },
  {
   "cell_type": "markdown",
   "id": "secondary-spare",
   "metadata": {},
   "source": [
    "## 행정구역명 전처리"
   ]
  },
  {
   "cell_type": "code",
   "execution_count": 6,
   "id": "indirect-chambers",
   "metadata": {
    "scrolled": true
   },
   "outputs": [
    {
     "data": {
      "text/plain": [
       "array(['경상남도 통영시 용남면', '경상남도 거창군 북상면', '경상남도 통영시 한산면', '경상남도 거창군 고제면',\n",
       "       '경상남도 의령군 정곡면', '경상남도 진주시 사봉면', '경상남도 통영시 도산면', '경상남도 진주시 지수면',\n",
       "       '경상남도 진주시 성북동', '경상남도 거창군 주상면', '경상남도 밀양시 삼랑진읍', '경상남도 거제시 고현동',\n",
       "       '경상남도 창원시진해구 풍호동', '경상남도 통영시 광도면', '경상남도 통영시 봉평동',\n",
       "       '경상남도 창원시진해구 여좌동', '경상남도 통영시 도천동', '경상남도 밀양시 삼문동', '경상남도 통영시 산양읍',\n",
       "       '경상남도 밀양시 산내면', '경상남도 밀양시 하남읍', '경상남도 밀양시 산외면', '경상남도 밀양시 상남면',\n",
       "       '경상남도 밀양시 교동', '경상남도 밀양시 가곡동', '경상남도 밀양시 무안면', '경상남도 밀양시 청도면',\n",
       "       '경상남도 밀양시 단장면', '경상남도 밀양시 상동면', '경상남도 통영시 북신동', '경상남도 거창군 신원면',\n",
       "       '경상남도 통영시 중앙동', '경상남도 거제시 연초면', '경상남도 밀양시 초동면', '경상남도 거제시 옥포2동',\n",
       "       '경상남도 거제시 둔덕면', '경상남도 사천시 사남면', '경상남도 거창군 거창읍', '경상남도 통영시 명정동',\n",
       "       '경상남도 거제시 동부면', '경상남도 합천군 율곡면', '경상남도 밀양시 부북면', '경상남도 밀양시 내이동',\n",
       "       '경상남도 통영시 욕지면', '경상남도 거제시 거제면', '경상남도 창원시마산합포구 노산동',\n",
       "       '경상남도 양산시 덕계동', '경상남도 진주시 진성면', '경상남도 진주시 대곡면',\n",
       "       '경상남도 창원시마산합포구 교방동', '경상남도 창녕군 길곡면', '경상남도 하동군 북천면',\n",
       "       '경상남도 창원시마산합포구 자산동', '경상남도 남해군 이동면', '경상남도 창녕군 부곡면',\n",
       "       '경상남도 합천군 묘산면', '경상남도 거제시 사등면', '경상남도 거창군 가조면', '경상남도 합천군 덕곡면',\n",
       "       '경상남도 창녕군 성산면', '경상남도 창녕군 유어면', '경상남도 하동군 악양면', '경상남도 진주시 이반성면',\n",
       "       '경상남도 사천시 곤양면', '경상남도 합천군 대병면', '경상남도 거창군 마리면', '경상남도 밀양시 내일동',\n",
       "       '경상남도 의령군 대의면', '경상남도 거제시 하청면', '경상남도 창원시의창구 봉림동', '경상남도 창녕군 도천면',\n",
       "       '경상남도 거제시 장목면', '경상남도 거제시 아주동', '경상남도 하동군 청암면', '경상남도 합천군 용주면',\n",
       "       '경상남도 창원시의창구 팔룡동', '경상남도 합천군 삼가면', '경상남도 진주시 상대동', '경상남도 거제시 일운면',\n",
       "       '경상남도 창원시마산합포구 산호동', '경상남도 함양군 수동면', '경상남도 거창군 남상면',\n",
       "       '경상남도 거창군 위천면', '경상남도 거제시 장승포동', '경상남도 산청군 단성면', '경상남도 거창군 남하면',\n",
       "       '경상남도 남해군 남해읍', '경상남도 남해군 창선면', '경상남도 거제시 남부면', '경상남도 창녕군 대지면',\n",
       "       '경상남도 거창군 가북면', '경상남도 의령군 칠곡면', '경상남도 통영시 정량동', '경상남도 하동군 옥종면',\n",
       "       '경상남도 합천군 가회면', '경상남도 하동군 횡천면', '경상남도 하동군 하동읍', '경상남도 의령군 부림면',\n",
       "       '경상남도 창원시진해구 태백동', '경상남도 산청군 시천면', '경상남도 창녕군 창녕읍', '경상남도 고성군 상리면',\n",
       "       '경상남도 양산시 원동면', '경상남도 양산시 삼성동', '경상남도 양산시 물금읍', '경상남도 양산시 동면',\n",
       "       '경상남도 양산시 강서동', '경상남도 양산시 서창동', '경상남도 양산시 중앙동', '경상남도 양산시 하북면',\n",
       "       '경상남도 산청군 신안면', '경상남도 고성군 개천면', '경상남도 양산시 상북면',\n",
       "       '경상남도 창원시마산합포구 오동동', '경상남도 사천시 사천읍', '경상남도 함안군 칠원읍 오곡리',\n",
       "       '경상남도 양산시 평산동', '경상남도 양산시 소주동', '경상남도 사천시 정동면', '경상남도 창녕군 계성면',\n",
       "       '경상남도 의령군 화정면', '경상남도 의령군 유곡면', '경상남도 창원시마산회원구 회원2동',\n",
       "       '경상남도 창원시의창구 명곡동', '경상남도 진주시 금산면', '경상남도 의령군 의령읍',\n",
       "       '경상남도 창원시마산회원구 합성2동', '경상남도 의령군 가례면', '경상남도 창녕군 고암면',\n",
       "       '경상남도 의령군 지정면', '경상남도 함안군 칠북면', '경상남도 거제시 상문동', '경상남도 합천군 쌍백면',\n",
       "       '경상남도 진주시 일반성면', '경상남도 창녕군 영산면', '경상남도 함안군 법수면', '경상남도 합천군 합천읍',\n",
       "       '경상남도 의령군 용덕면', '경상남도 진주시 천전동', '경상남도 의령군 낙서면', '경상남도 양산시 양주동',\n",
       "       '경상남도 진주시 문산읍', '경상남도 창원시성산구 사파동', '경상남도 창원시마산회원구 구암2동',\n",
       "       '경상남도 산청군 생비량면', '경상남도 창원시마산합포구 진동면', '경상남도 산청군 생초면',\n",
       "       '경상남도 창원시성산구 중앙동', '경상남도 합천군 청덕면', '경상남도 합천군 초계면', '경상남도 함안군 가야읍',\n",
       "       '경상남도 창원시성산구 반송동', '경상남도 진주시 상평동', '경상남도 함양군 안의면', '경상남도 함안군 군북면',\n",
       "       '경상남도 창원시성산구 성주동', '경상남도 진주시 집현면', '경상남도 진주시 미천면',\n",
       "       '경상남도 창원시성산구 가음정동', '경상남도 하동군 화개면', '경상남도 양산시 하북면 순지리',\n",
       "       '경상남도 의령군 궁류면', '경상남도 함안군 칠원읍 용산리', '경상남도 고성군 구만면', '경상남도 함안군 칠서면',\n",
       "       '경상남도 함안군 칠원읍 유원리', '경상남도 함안군 함안면', '경상남도 함안군 칠원읍 용정리',\n",
       "       '경상남도 함안군 칠원읍 예곡리', '경상남도 함안군 칠원읍 구성리', '경상남도 함안군 칠원읍 운곡리',\n",
       "       '경상남도 함안군 대산면', '경상남도 함안군 여항면', '경상남도 함안군 칠원읍', '경상남도 창원시의창구 동읍',\n",
       "       '경상남도 거제시 장평동', '경상남도 남해군 상주면', '경상남도 창원시의창구 북면', '경상남도 진주시 중앙동',\n",
       "       '경상남도 사천시 서포면', '경상남도 통영시 사량면', '경상남도 함양군 병곡면', '경상남도 진주시 명석면',\n",
       "       '경상남도 사천시 용현면', '경상남도 산청군 산청읍', '경상남도 창원시의창구 의창동', '경상남도 진주시 대평면',\n",
       "       '경상남도 합천군 가야면', '경상남도 합천군 봉산면', '경상남도 함양군 함양읍', '경상남도 사천시 향촌동',\n",
       "       '경상남도 합천군 야로면', '경상남도 진주시 내동면', '경상남도 사천시 곤명면', '경상남도 의령군 봉수면',\n",
       "       '경상남도 진주시 수곡면', '경상남도 함안군 산인면', '경상남도 남해군 미조면', '경상남도 창원시성산구 상남동',\n",
       "       '경상남도 진주시 신안동', '경상남도 하동군 금남면', '경상남도 하동군 양보면', '경상남도 남해군 삼동면',\n",
       "       nan, '경상남도 함안군 칠원읍 무기리', '경상남도 함안군 칠원읍 장암리', '경상남도 함안군 칠원읍 운서리',\n",
       "       '경상남도 진주시 이현동', '경상남도 창원시의창구 대산면', '경상남도 남해군 설천면', '경상남도 창녕군 남지읍',\n",
       "       '경상남도 창녕군 이방면', '경상남도 창녕군 대합면', '경상남도 창녕군 장마면', '경상남도 진주시 판문동',\n",
       "       '경상남도 합천군 대양면', '경상남도 진주시 가호동', '경상남도 고성군 하일면', '경상남도 창원시의창구 용지동',\n",
       "       '경상남도 고성군 고성읍', '경상남도 창원시진해구 웅동2동', '경상남도 고성군 삼산면',\n",
       "       '경상남도 창원시마산합포구 구산면', '경상남도 함양군 지곡면', '경상남도 사천시 남양동',\n",
       "       '경상남도 함양군 유림면', '경상남도 하동군 적량면', '경상남도 고성군 하이면', '경상남도 창녕군 이방면 송곡리',\n",
       "       '경상남도 고성군 대가면', '경상남도 창녕군 대합면 목단리', '경상남도 거제시 옥포1동',\n",
       "       '경상남도 거제시 능포동', '경상남도 거제시 수양동', '경상남도 고성군 마암면', '경상남도 창원시진해구 이동',\n",
       "       '경상남도 산청군 차황면', '경상남도 사천시 벌룡동', '경상남도 고성군 거류면', '경상남도 하동군 고전면',\n",
       "       '경상남도 진주시 상봉동', '경상남도 창원시마산회원구 합성1동', '경상남도 고성군 동해면',\n",
       "       '경상남도 고성군 회화면', '경상남도 진주시 정촌면', '경상남도 산청군 금서면',\n",
       "       '경상남도 창원시마산합포구 월영동', '경상남도 남해군 남면', '경상남도 사천시 선구동',\n",
       "       '경상남도 사천시 동서금동', '경상남도 창원시진해구 중앙동', '경상남도 사천시 동서동',\n",
       "       '경상남도 창원시진해구 석동', '경상남도 창원시진해구 자은동', '경상남도 창원시진해구 경화동',\n",
       "       '경상남도 창원시진해구 웅동1동', '경상남도 함양군 서하면', '경상남도 창원시성산구 웅남동',\n",
       "       '경상남도 창원시마산회원구 회성동', '경상남도 창원시마산회원구 양덕1동', '경상남도 창원시마산합포구 합포동',\n",
       "       '경상남도 함양군 서상면', '경상남도 거창군 웅양면', '경상남도 진주시 금곡면', '경상남도 하동군 금성면',\n",
       "       '경상남도 하동군 진교면', '경상남도 진주시 하대동', '경상남도 창원시진해구 덕산동',\n",
       "       '경상남도 창원시진해구 충무동', '경상남도 창원시마산회원구 내서읍', '경상남도 창원시마산회원구 회원1동',\n",
       "       '경상남도 창원시 마산회원구 석전동', '경상남도 창원시마산회원구 구암1동', '경상남도 창원시마산합포구 현동',\n",
       "       '경상남도 창원시마산합포구 진북면', '경상남도 창원시마산합포구 진전면', '경상남도 창원시마산회원구 양덕2동',\n",
       "       '경상남도 진주시 평거동', '경상남도 진주시 초장동', '경상남도 남해군 고현면', '경상남도 사천시 축동면',\n",
       "       '경상남도 합천군 적중면', '경상남도 함양군 휴천면', '경상남도 남해군 서면', '경상남도 함양군 마천면',\n",
       "       '경상남도 산청군 신등면', '경상남도 고성군 영오면', '경상남도 함양군 백전면', '경상남도 통영시 미수동',\n",
       "       '경상남도 거제시 거제면 오수리', '경상남도 거제시 둔덕면 학산리', '경상남도 거제시 거제면 법동리',\n",
       "       '경상남도 거제시 장목면 시방리', '경상남도 합천군 쌍책면', '경상남도 창원시마산합포구 문화동',\n",
       "       '경상남도 사천시 동금동', '경상남도 사천시 실안동', '경상남도 창원시진해구 병암동',\n",
       "       '경상남도 창원시 진해구 가주동', '경상남도 창원시진해구 웅천동', '경상남도 창원시 진해구 용원동',\n",
       "       '경상남도 창원시 진해구 연도동', '경상남도 창원시진해구 태평동', '경상남도 창원시 진해구 행암동',\n",
       "       '경상남도 창원시 진해구 남양동', '경상남도 창원시 진해구 명동', '경상남도 창원시마산회원구 봉암동',\n",
       "       '경상남도 창원시마산합포구 가포동', '경상남도 창원시마산합포구 완월동', '경상남도 창원시마산회원구 석전동',\n",
       "       '경상남도 창원시 마산합포구 대성동1가', '경상남도 창원시 마산합포구 중앙동1가',\n",
       "       '경상남도 창원시마산합포구 반월중앙동', '경상남도 창원시 마산합포구 월포동', '경상남도 창원시 마산합포구 반월동',\n",
       "       '경상남도 창원시 마산회원구 합성동', '경상남도 창원시 마산합포구 중앙동2가',\n",
       "       '경상남도 창원시 마산합포구 장군동1가', '경상남도 창원시 마산합포구 신흥동', '경상남도 창원시 마산회원구 회성동',\n",
       "       '경상남도 창원시 마산합포구 장군동3가', '경상남도 창원시 마산합포구 신월동', '경상남도 창원시 마산합포구 월영동',\n",
       "       '경상남도 창원시 마산합포구 대성동2가', '경상남도 창원시 마산합포구 장군동2가',\n",
       "       '경상남도 창원시 마산합포구 중앙동3가', '경상남도 창원시 마산합포구 진전면 창포리',\n",
       "       '경상남도 창원시 마산합포구 완월동', '경상남도 고성군 영현면', '경상남도 하동군 금남면 대도리',\n",
       "       '경상남도 산청군 삼장면', '경상남도 통영시 무전동', '경상남도 창원시 마산합포구 오동동',\n",
       "       '경상남도 창원시 진해구 안골동', '경상남도 산청군 오부면', '경상남도 남해군 남해읍 입현리',\n",
       "       '경상남도 고성군 거류면 당동리', '경상남도 진주시 충무공동', '경상남도 통영시 욕지면 동항리',\n",
       "       '경상남도 남해군 고현면 갈화리', '경상남도 남해군 창선면 당항리', '경상남도 남해군 이동면 석평리',\n",
       "       '경상남도 하동군 진교면 양포리', '경상남도 고성군 회화면 당항리', '경상남도 통영시 산양읍 풍화리',\n",
       "       '경상남도 통영시 용남면 화삼리', '경상남도 통영시 용남면 지도리', '경상남도 통영시 산양읍 신전리',\n",
       "       '경상남도 통영시 욕지면 두미리', '경상남도 통영시 산양읍 영운리', '경상남도 통영시 도산면 오륜리',\n",
       "       '경상남도 통영시 산양읍 삼덕리', '경상남도 김해시 회현동', '경상남도 김해시 내외동', '경상남도 김해시 한림면',\n",
       "       '경상남도 김해시 칠산서부동', '경상남도 김해시 장유3동', '경상남도 김해시 활천동', '경상남도 김해시 장유2동',\n",
       "       '경상남도 김해시 주촌면', '경상남도 김해시 진영읍', '경상남도 김해시 삼안동', '경상남도 김해시 장유1동',\n",
       "       '경상남도 김해시 불암동', '경상남도 김해시 상동면', '경상남도 김해시 북부동', '경상남도 김해시 동상동',\n",
       "       '경상남도 김해시 대동면', '경상남도 김해시 진례면', '경상남도 김해시 부원동', '경상남도 김해시 생림면'],\n",
       "      dtype=object)"
      ]
     },
     "execution_count": 6,
     "metadata": {},
     "output_type": "execute_result"
    }
   ],
   "source": [
    "df[\"행정구역명\"].unique()"
   ]
  },
  {
   "cell_type": "code",
   "execution_count": 7,
   "id": "distinguished-intelligence",
   "metadata": {},
   "outputs": [
    {
     "data": {
      "text/plain": [
       "4"
      ]
     },
     "execution_count": 7,
     "metadata": {},
     "output_type": "execute_result"
    }
   ],
   "source": [
    "df[\"행정구역명\"].isnull().sum()"
   ]
  },
  {
   "cell_type": "code",
   "execution_count": 8,
   "id": "golden-detroit",
   "metadata": {},
   "outputs": [
    {
     "data": {
      "text/plain": [
       "0"
      ]
     },
     "execution_count": 8,
     "metadata": {},
     "output_type": "execute_result"
    }
   ],
   "source": [
    "df_test[\"emd_nm\"].isnull().sum()"
   ]
  },
  {
   "cell_type": "markdown",
   "id": "received-chart",
   "metadata": {},
   "source": [
    "- 행정구역명의 NA 값은 train data 에만 4개 존재하므로 데이터 자체를 삭제"
   ]
  },
  {
   "cell_type": "code",
   "execution_count": 9,
   "id": "separated-hollywood",
   "metadata": {},
   "outputs": [],
   "source": [
    "df = df.drop(np.where(df[\"행정구역명\"].isnull())[0])\n",
    "df = df.reset_index(drop=True)"
   ]
  },
  {
   "cell_type": "code",
   "execution_count": 10,
   "id": "billion-apartment",
   "metadata": {},
   "outputs": [],
   "source": [
    "number_of_train_data -= 4\n",
    "y_train = df[\"화재발생\"]\n",
    "y_train_onehot = pd.get_dummies(df[[\"화재발생\"]])"
   ]
  },
  {
   "cell_type": "code",
   "execution_count": 11,
   "id": "noted-ebony",
   "metadata": {},
   "outputs": [],
   "source": [
    "df[\"시군구\"] = df[\"행정구역명\"].str.replace(\"경상남도\", \"\").map(lambda x: x[1:4])"
   ]
  },
  {
   "cell_type": "markdown",
   "id": "norwegian-springer",
   "metadata": {},
   "source": [
    "## 결측치 확인"
   ]
  },
  {
   "cell_type": "code",
   "execution_count": 12,
   "id": "behavioral-temple",
   "metadata": {
    "scrolled": true
   },
   "outputs": [
    {
     "data": {
      "text/html": [
       "<div>\n",
       "<style scoped>\n",
       "    .dataframe tbody tr th:only-of-type {\n",
       "        vertical-align: middle;\n",
       "    }\n",
       "\n",
       "    .dataframe tbody tr th {\n",
       "        vertical-align: top;\n",
       "    }\n",
       "\n",
       "    .dataframe thead th {\n",
       "        text-align: right;\n",
       "    }\n",
       "</style>\n",
       "<table border=\"1\" class=\"dataframe\">\n",
       "  <thead>\n",
       "    <tr style=\"text-align: right;\">\n",
       "      <th></th>\n",
       "      <th>Total</th>\n",
       "      <th>Percent</th>\n",
       "    </tr>\n",
       "  </thead>\n",
       "  <tbody>\n",
       "    <tr>\n",
       "      <th>lw_13121011</th>\n",
       "      <td>58922</td>\n",
       "      <td>0.995388</td>\n",
       "    </tr>\n",
       "    <tr>\n",
       "      <th>lw_13121010</th>\n",
       "      <td>58922</td>\n",
       "      <td>0.995388</td>\n",
       "    </tr>\n",
       "    <tr>\n",
       "      <th>lw_13111110</th>\n",
       "      <td>58914</td>\n",
       "      <td>0.995253</td>\n",
       "    </tr>\n",
       "    <tr>\n",
       "      <th>lw_13101410</th>\n",
       "      <td>58912</td>\n",
       "      <td>0.995219</td>\n",
       "    </tr>\n",
       "    <tr>\n",
       "      <th>lw_13101110</th>\n",
       "      <td>58904</td>\n",
       "      <td>0.995084</td>\n",
       "    </tr>\n",
       "    <tr>\n",
       "      <th>lw_13141011</th>\n",
       "      <td>58904</td>\n",
       "      <td>0.995084</td>\n",
       "    </tr>\n",
       "    <tr>\n",
       "      <th>lw_13101310</th>\n",
       "      <td>58903</td>\n",
       "      <td>0.995067</td>\n",
       "    </tr>\n",
       "    <tr>\n",
       "      <th>lw_13141010</th>\n",
       "      <td>58903</td>\n",
       "      <td>0.995067</td>\n",
       "    </tr>\n",
       "    <tr>\n",
       "      <th>lw_13131010</th>\n",
       "      <td>58899</td>\n",
       "      <td>0.995000</td>\n",
       "    </tr>\n",
       "    <tr>\n",
       "      <th>lw_13131110</th>\n",
       "      <td>58899</td>\n",
       "      <td>0.995000</td>\n",
       "    </tr>\n",
       "    <tr>\n",
       "      <th>lw_13101210</th>\n",
       "      <td>58898</td>\n",
       "      <td>0.994983</td>\n",
       "    </tr>\n",
       "    <tr>\n",
       "      <th>lw_13101211</th>\n",
       "      <td>58897</td>\n",
       "      <td>0.994966</td>\n",
       "    </tr>\n",
       "    <tr>\n",
       "      <th>lw_13111010</th>\n",
       "      <td>58895</td>\n",
       "      <td>0.994932</td>\n",
       "    </tr>\n",
       "    <tr>\n",
       "      <th>lw_13101010</th>\n",
       "      <td>58893</td>\n",
       "      <td>0.994898</td>\n",
       "    </tr>\n",
       "    <tr>\n",
       "      <th>gas_engry_us_201802</th>\n",
       "      <td>53821</td>\n",
       "      <td>0.909215</td>\n",
       "    </tr>\n",
       "    <tr>\n",
       "      <th>gas_engry_us_201603</th>\n",
       "      <td>53821</td>\n",
       "      <td>0.909215</td>\n",
       "    </tr>\n",
       "    <tr>\n",
       "      <th>gas_engry_us_201712</th>\n",
       "      <td>53821</td>\n",
       "      <td>0.909215</td>\n",
       "    </tr>\n",
       "    <tr>\n",
       "      <th>gas_engry_us_201602</th>\n",
       "      <td>53821</td>\n",
       "      <td>0.909215</td>\n",
       "    </tr>\n",
       "    <tr>\n",
       "      <th>gas_engry_us_201601</th>\n",
       "      <td>53821</td>\n",
       "      <td>0.909215</td>\n",
       "    </tr>\n",
       "    <tr>\n",
       "      <th>gas_engry_us_201801</th>\n",
       "      <td>53821</td>\n",
       "      <td>0.909215</td>\n",
       "    </tr>\n",
       "  </tbody>\n",
       "</table>\n",
       "</div>"
      ],
      "text/plain": [
       "                     Total   Percent\n",
       "lw_13121011          58922  0.995388\n",
       "lw_13121010          58922  0.995388\n",
       "lw_13111110          58914  0.995253\n",
       "lw_13101410          58912  0.995219\n",
       "lw_13101110          58904  0.995084\n",
       "lw_13141011          58904  0.995084\n",
       "lw_13101310          58903  0.995067\n",
       "lw_13141010          58903  0.995067\n",
       "lw_13131010          58899  0.995000\n",
       "lw_13131110          58899  0.995000\n",
       "lw_13101210          58898  0.994983\n",
       "lw_13101211          58897  0.994966\n",
       "lw_13111010          58895  0.994932\n",
       "lw_13101010          58893  0.994898\n",
       "gas_engry_us_201802  53821  0.909215\n",
       "gas_engry_us_201603  53821  0.909215\n",
       "gas_engry_us_201712  53821  0.909215\n",
       "gas_engry_us_201602  53821  0.909215\n",
       "gas_engry_us_201601  53821  0.909215\n",
       "gas_engry_us_201801  53821  0.909215"
      ]
     },
     "execution_count": 12,
     "metadata": {},
     "output_type": "execute_result"
    }
   ],
   "source": [
    "total = df[:number_of_train_data].isnull().sum().sort_values(ascending=False)\n",
    "percent = (df[:number_of_train_data].isnull().sum()/df[:number_of_train_data].isnull().count()).sort_values(ascending=False)\n",
    "missing_data = pd.concat([total, percent], axis=1, keys=['Total', 'Percent'])\n",
    "missing_data.head(20)"
   ]
  },
  {
   "cell_type": "code",
   "execution_count": 13,
   "id": "weekly-tactics",
   "metadata": {},
   "outputs": [
    {
     "data": {
      "text/plain": [
       "Index(['lw_13121011', 'lw_13121010', 'lw_13111110', 'lw_13101410',\n",
       "       'lw_13101110', 'lw_13141011', 'lw_13101310', 'lw_13141010',\n",
       "       'lw_13131010', 'lw_13131110', 'lw_13101210', 'lw_13101211',\n",
       "       'lw_13111010', 'lw_13101010', 'gas_engry_us_201802',\n",
       "       'gas_engry_us_201603', 'gas_engry_us_201712', 'gas_engry_us_201602',\n",
       "       'gas_engry_us_201601', 'gas_engry_us_201801', 'gas_engry_us_201512',\n",
       "       'gas_engry_us_201511', 'gas_engry_us_201701', 'gas_engry_us_201510',\n",
       "       'gas_engry_us_201509', 'gas_engry_us_201803', 'gas_engry_us_201508',\n",
       "       'gas_engry_us_201507', 'gas_engry_us_201711', 'gas_engry_us_201804',\n",
       "       'gas_engry_us_201604', 'gas_engry_us_201610', 'gas_engry_us_201605',\n",
       "       'gas_engry_us_201611', 'gas_engry_us_201705', 'gas_engry_us_201703',\n",
       "       'gas_engry_us_201702', 'gas_engry_us_201706', 'gas_engry_us_201707',\n",
       "       'gas_engry_us_201612', 'gas_engry_us_201708', 'gas_engry_us_201606',\n",
       "       'gas_engry_us_201505', 'gas_engry_us_201609', 'gas_engry_us_201709',\n",
       "       'gas_engry_us_201608', 'gas_engry_us_201607', 'gas_engry_us_201710',\n",
       "       'gas_engry_us_201506', 'gas_engry_us_201805', 'gas_engry_us_201408',\n",
       "       'gas_engry_us_201808', 'gas_engry_us_201401', 'gas_engry_us_201402',\n",
       "       'gas_engry_us_201812', 'gas_engry_us_201403', 'gas_engry_us_201404',\n",
       "       'gas_engry_us_201811', 'gas_engry_us_201405', 'gas_engry_us_201406',\n",
       "       'gas_engry_us_201810', 'gas_engry_us_201407', 'gas_engry_us_201809',\n",
       "       'gas_engry_us_201409', 'gas_engry_us_201410', 'gas_engry_us_201704',\n",
       "       'gas_engry_us_201806', 'gas_engry_us_201501', 'gas_engry_us_201504',\n",
       "       'gas_engry_us_201411', 'gas_engry_us_201412', 'gas_engry_us_201502',\n",
       "       'gas_engry_us_201503', 'gas_engry_us_201807', '강수량'],\n",
       "      dtype='object')"
      ]
     },
     "execution_count": 13,
     "metadata": {},
     "output_type": "execute_result"
    }
   ],
   "source": [
    "missing_data[missing_data[\"Percent\"] > 0.9].index"
   ]
  },
  {
   "cell_type": "markdown",
   "id": "experienced-listing",
   "metadata": {},
   "source": [
    "- lw 와 gas , 강수량 특성들은 결측치가 90퍼센트가 넘어간다."
   ]
  },
  {
   "cell_type": "code",
   "execution_count": 14,
   "id": "interesting-deputy",
   "metadata": {},
   "outputs": [
    {
     "data": {
      "text/plain": [
       "array([       nan, 0.        , 4.        , 3.        , 2.        ,\n",
       "       2.73684211, 3.05882353, 2.05263158, 1.85714286, 3.46666667,\n",
       "       2.28571429, 1.8       , 3.25      , 2.4       , 3.59090909,\n",
       "       1.94117647])"
      ]
     },
     "execution_count": 14,
     "metadata": {},
     "output_type": "execute_result"
    }
   ],
   "source": [
    "df[\"lw_13121011\"].unique()"
   ]
  },
  {
   "cell_type": "code",
   "execution_count": 15,
   "id": "subjective-jerusalem",
   "metadata": {
    "scrolled": true
   },
   "outputs": [
    {
     "data": {
      "text/html": [
       "<div>\n",
       "<style scoped>\n",
       "    .dataframe tbody tr th:only-of-type {\n",
       "        vertical-align: middle;\n",
       "    }\n",
       "\n",
       "    .dataframe tbody tr th {\n",
       "        vertical-align: top;\n",
       "    }\n",
       "\n",
       "    .dataframe thead th {\n",
       "        text-align: right;\n",
       "    }\n",
       "</style>\n",
       "<table border=\"1\" class=\"dataframe\">\n",
       "  <thead>\n",
       "    <tr style=\"text-align: right;\">\n",
       "      <th></th>\n",
       "      <th>lw_13121011</th>\n",
       "      <th>화재발생_N</th>\n",
       "      <th>화재발생_Y</th>\n",
       "    </tr>\n",
       "  </thead>\n",
       "  <tbody>\n",
       "    <tr>\n",
       "      <th>lw_13121011</th>\n",
       "      <td>1.000000</td>\n",
       "      <td>-0.021743</td>\n",
       "      <td>0.012790</td>\n",
       "    </tr>\n",
       "    <tr>\n",
       "      <th>화재발생_N</th>\n",
       "      <td>-0.021743</td>\n",
       "      <td>1.000000</td>\n",
       "      <td>-0.825976</td>\n",
       "    </tr>\n",
       "    <tr>\n",
       "      <th>화재발생_Y</th>\n",
       "      <td>0.012790</td>\n",
       "      <td>-0.825976</td>\n",
       "      <td>1.000000</td>\n",
       "    </tr>\n",
       "  </tbody>\n",
       "</table>\n",
       "</div>"
      ],
      "text/plain": [
       "             lw_13121011    화재발생_N    화재발생_Y\n",
       "lw_13121011     1.000000 -0.021743  0.012790\n",
       "화재발생_N         -0.021743  1.000000 -0.825976\n",
       "화재발생_Y          0.012790 -0.825976  1.000000"
      ]
     },
     "execution_count": 15,
     "metadata": {},
     "output_type": "execute_result"
    }
   ],
   "source": [
    "temp_df = pd.DataFrame(df[\"lw_13121011\"].fillna(0))\n",
    "temp_df = pd.merge(temp_df, y_train_onehot, left_index=True, right_index=True)\n",
    "temp_df.corr()"
   ]
  },
  {
   "cell_type": "code",
   "execution_count": 16,
   "id": "fancy-broad",
   "metadata": {
    "scrolled": true
   },
   "outputs": [
    {
     "data": {
      "text/plain": [
       "array([nan,  0.])"
      ]
     },
     "execution_count": 16,
     "metadata": {},
     "output_type": "execute_result"
    }
   ],
   "source": [
    "df[\"gas_engry_us_201603\"].unique()"
   ]
  },
  {
   "cell_type": "markdown",
   "id": "compressed-oriental",
   "metadata": {},
   "source": [
    "- 가스 에너지 사용량인데 0밖에 없다?"
   ]
  },
  {
   "cell_type": "code",
   "execution_count": 17,
   "id": "marine-passion",
   "metadata": {},
   "outputs": [
    {
     "data": {
      "text/html": [
       "<div>\n",
       "<style scoped>\n",
       "    .dataframe tbody tr th:only-of-type {\n",
       "        vertical-align: middle;\n",
       "    }\n",
       "\n",
       "    .dataframe tbody tr th {\n",
       "        vertical-align: top;\n",
       "    }\n",
       "\n",
       "    .dataframe thead th {\n",
       "        text-align: right;\n",
       "    }\n",
       "</style>\n",
       "<table border=\"1\" class=\"dataframe\">\n",
       "  <thead>\n",
       "    <tr style=\"text-align: right;\">\n",
       "      <th></th>\n",
       "      <th>gas_engry_us_201603_0.0</th>\n",
       "      <th>gas_engry_us_201603_NA</th>\n",
       "      <th>화재발생_N</th>\n",
       "      <th>화재발생_Y</th>\n",
       "    </tr>\n",
       "  </thead>\n",
       "  <tbody>\n",
       "    <tr>\n",
       "      <th>gas_engry_us_201603_0.0</th>\n",
       "      <td>1.000000</td>\n",
       "      <td>-1.000000</td>\n",
       "      <td>-0.095216</td>\n",
       "      <td>0.060437</td>\n",
       "    </tr>\n",
       "    <tr>\n",
       "      <th>gas_engry_us_201603_NA</th>\n",
       "      <td>-1.000000</td>\n",
       "      <td>1.000000</td>\n",
       "      <td>0.095216</td>\n",
       "      <td>-0.060437</td>\n",
       "    </tr>\n",
       "    <tr>\n",
       "      <th>화재발생_N</th>\n",
       "      <td>-0.095216</td>\n",
       "      <td>0.095216</td>\n",
       "      <td>1.000000</td>\n",
       "      <td>-0.825976</td>\n",
       "    </tr>\n",
       "    <tr>\n",
       "      <th>화재발생_Y</th>\n",
       "      <td>0.060437</td>\n",
       "      <td>-0.060437</td>\n",
       "      <td>-0.825976</td>\n",
       "      <td>1.000000</td>\n",
       "    </tr>\n",
       "  </tbody>\n",
       "</table>\n",
       "</div>"
      ],
      "text/plain": [
       "                         gas_engry_us_201603_0.0  gas_engry_us_201603_NA  \\\n",
       "gas_engry_us_201603_0.0                 1.000000               -1.000000   \n",
       "gas_engry_us_201603_NA                 -1.000000                1.000000   \n",
       "화재발생_N                                 -0.095216                0.095216   \n",
       "화재발생_Y                                  0.060437               -0.060437   \n",
       "\n",
       "                           화재발생_N    화재발생_Y  \n",
       "gas_engry_us_201603_0.0 -0.095216  0.060437  \n",
       "gas_engry_us_201603_NA   0.095216 -0.060437  \n",
       "화재발생_N                   1.000000 -0.825976  \n",
       "화재발생_Y                  -0.825976  1.000000  "
      ]
     },
     "execution_count": 17,
     "metadata": {},
     "output_type": "execute_result"
    }
   ],
   "source": [
    "temp_df = pd.DataFrame(df[\"gas_engry_us_201603\"].fillna(\"NA\"))\n",
    "temp_df = pd.merge(pd.get_dummies(temp_df[[\"gas_engry_us_201603\"]]), y_train_onehot, left_index=True, right_index=True)\n",
    "temp_df.corr()"
   ]
  },
  {
   "cell_type": "code",
   "execution_count": 18,
   "id": "chronic-flexibility",
   "metadata": {},
   "outputs": [
    {
     "data": {
      "text/plain": [
       "array([ nan,  0.5,  0.4,  0.8,  0.6,  6.4,  2. ,  0. , 25. ,  0.7,  1.5,\n",
       "        3.6,  5. ,  1. ,  1.2,  0.2,  0.3,  7. ,  2.9,  6.8,  3. ,  1.8,\n",
       "        0.1,  2.5,  1.1, 11.2,  2.3,  3.1,  4.5,  8.2,  1.4,  3.7,  1.9,\n",
       "        8.5,  1.6,  4.1, 11.8,  7.5,  9.5,  2.2,  5.1,  1.7,  0.9,  2.1,\n",
       "        6.5,  5.3,  3.5,  9.7,  1.3,  2.4, 10. , 11.5,  4.7,  4. , 11.1,\n",
       "        3.4,  2.8,  3.3, 14.1, 17.7,  5.5, 14.5, 17.5, 26. , 93. ,  6. ,\n",
       "        8.6, 21.5,  7.7,  8. , 13.5, 30.5, 10.4, 28.5, 13. ,  4.3, 37. ,\n",
       "       15. ,  9. , 34. , 12. ,  3.2, 15.3, 10.5, 14. ,  5.4, 16. , 16.5,\n",
       "       26.5, 12.5, 17.4, 18.5, 18. , 35.5, 11. ,  9.2,  6.7, 39.5, 27. ,\n",
       "       11.6, 40.5, 10.8,  3.9, 24. , 43.5, 24.5, 20. , 20.5, 22. ,  6.3,\n",
       "        2.6,  7.3,  4.8, 13.1,  5.9,  4.2,  5.8,  4.4,  3.8, 16.7,  4.9,\n",
       "       11.3, 36.5, 15.4, 13.8, 15.8, 19.5,  2.7,  5.7,  5.6, 29. ,  6.6,\n",
       "       19.9,  8.4,  4.6,  6.9,  7.8, 10.1, 12.3,  5.2, 23.9, 18.7,  7.2,\n",
       "       19.7, 18.1,  6.1, 19. ,  9.3,  8.3,  6.2, 14.3, 11.7, 30.3, 26.6,\n",
       "       13.2, 10.2,  7.6, 19.2,  8.7,  9.8, 10.3, 23.1,  8.1, 15.1, 13.7,\n",
       "       25.5, 15.5, 17. , 22.5, 33.5, 33. ,  9.1, 21. , 25.6, 13.9, 29.3,\n",
       "        9.4, 11.4, 19.6, 26.2, 24.4, 17.6,  7.1,  8.9, 21.4, 12.2, 24.2,\n",
       "       40.8, 48.6, 14.9, 14.8, 20.6,  9.6, 24.7])"
      ]
     },
     "execution_count": 18,
     "metadata": {},
     "output_type": "execute_result"
    }
   ],
   "source": [
    "df[\"강수량\"].unique()"
   ]
  },
  {
   "cell_type": "code",
   "execution_count": 19,
   "id": "baking-arlington",
   "metadata": {},
   "outputs": [
    {
     "data": {
      "text/html": [
       "<div>\n",
       "<style scoped>\n",
       "    .dataframe tbody tr th:only-of-type {\n",
       "        vertical-align: middle;\n",
       "    }\n",
       "\n",
       "    .dataframe tbody tr th {\n",
       "        vertical-align: top;\n",
       "    }\n",
       "\n",
       "    .dataframe thead th {\n",
       "        text-align: right;\n",
       "    }\n",
       "</style>\n",
       "<table border=\"1\" class=\"dataframe\">\n",
       "  <thead>\n",
       "    <tr style=\"text-align: right;\">\n",
       "      <th></th>\n",
       "      <th>강수량</th>\n",
       "      <th>화재발생_N</th>\n",
       "      <th>화재발생_Y</th>\n",
       "    </tr>\n",
       "  </thead>\n",
       "  <tbody>\n",
       "    <tr>\n",
       "      <th>강수량</th>\n",
       "      <td>1.000000</td>\n",
       "      <td>0.000896</td>\n",
       "      <td>-0.002413</td>\n",
       "    </tr>\n",
       "    <tr>\n",
       "      <th>화재발생_N</th>\n",
       "      <td>0.000896</td>\n",
       "      <td>1.000000</td>\n",
       "      <td>-0.825976</td>\n",
       "    </tr>\n",
       "    <tr>\n",
       "      <th>화재발생_Y</th>\n",
       "      <td>-0.002413</td>\n",
       "      <td>-0.825976</td>\n",
       "      <td>1.000000</td>\n",
       "    </tr>\n",
       "  </tbody>\n",
       "</table>\n",
       "</div>"
      ],
      "text/plain": [
       "             강수량    화재발생_N    화재발생_Y\n",
       "강수량     1.000000  0.000896 -0.002413\n",
       "화재발생_N  0.000896  1.000000 -0.825976\n",
       "화재발생_Y -0.002413 -0.825976  1.000000"
      ]
     },
     "execution_count": 19,
     "metadata": {},
     "output_type": "execute_result"
    }
   ],
   "source": [
    "temp_df = pd.DataFrame(df[\"강수량\"].fillna(0))\n",
    "temp_df = pd.merge(temp_df, y_train_onehot, left_index=True, right_index=True)\n",
    "temp_df.corr()"
   ]
  },
  {
   "cell_type": "markdown",
   "id": "great-sentence",
   "metadata": {},
   "source": [
    "- 결측치가 90퍼센트가 넘어가는 특성들은 모두 제거"
   ]
  },
  {
   "cell_type": "code",
   "execution_count": 20,
   "id": "robust-madonna",
   "metadata": {
    "scrolled": false
   },
   "outputs": [],
   "source": [
    "df = df.drop(missing_data[missing_data[\"Percent\"] > 0.9].index, axis=1)"
   ]
  },
  {
   "cell_type": "code",
   "execution_count": 21,
   "id": "played-quantity",
   "metadata": {
    "scrolled": true
   },
   "outputs": [
    {
     "data": {
      "text/html": [
       "<div>\n",
       "<style scoped>\n",
       "    .dataframe tbody tr th:only-of-type {\n",
       "        vertical-align: middle;\n",
       "    }\n",
       "\n",
       "    .dataframe tbody tr th {\n",
       "        vertical-align: top;\n",
       "    }\n",
       "\n",
       "    .dataframe thead th {\n",
       "        text-align: right;\n",
       "    }\n",
       "</style>\n",
       "<table border=\"1\" class=\"dataframe\">\n",
       "  <thead>\n",
       "    <tr style=\"text-align: right;\">\n",
       "      <th></th>\n",
       "      <th>Total</th>\n",
       "      <th>Percent</th>\n",
       "    </tr>\n",
       "  </thead>\n",
       "  <tbody>\n",
       "    <tr>\n",
       "      <th>ele_engry_us_201701</th>\n",
       "      <td>43548</td>\n",
       "      <td>0.73567</td>\n",
       "    </tr>\n",
       "    <tr>\n",
       "      <th>ele_engry_us_201707</th>\n",
       "      <td>43548</td>\n",
       "      <td>0.73567</td>\n",
       "    </tr>\n",
       "    <tr>\n",
       "      <th>ele_engry_us_201705</th>\n",
       "      <td>43548</td>\n",
       "      <td>0.73567</td>\n",
       "    </tr>\n",
       "    <tr>\n",
       "      <th>ele_engry_us_201704</th>\n",
       "      <td>43548</td>\n",
       "      <td>0.73567</td>\n",
       "    </tr>\n",
       "    <tr>\n",
       "      <th>ele_engry_us_201703</th>\n",
       "      <td>43548</td>\n",
       "      <td>0.73567</td>\n",
       "    </tr>\n",
       "    <tr>\n",
       "      <th>ele_engry_us_201702</th>\n",
       "      <td>43548</td>\n",
       "      <td>0.73567</td>\n",
       "    </tr>\n",
       "    <tr>\n",
       "      <th>ele_engry_us_201612</th>\n",
       "      <td>43548</td>\n",
       "      <td>0.73567</td>\n",
       "    </tr>\n",
       "    <tr>\n",
       "      <th>ele_engry_us_201611</th>\n",
       "      <td>43548</td>\n",
       "      <td>0.73567</td>\n",
       "    </tr>\n",
       "    <tr>\n",
       "      <th>ele_engry_us_201610</th>\n",
       "      <td>43548</td>\n",
       "      <td>0.73567</td>\n",
       "    </tr>\n",
       "    <tr>\n",
       "      <th>ele_engry_us_201609</th>\n",
       "      <td>43548</td>\n",
       "      <td>0.73567</td>\n",
       "    </tr>\n",
       "    <tr>\n",
       "      <th>ele_engry_us_201608</th>\n",
       "      <td>43548</td>\n",
       "      <td>0.73567</td>\n",
       "    </tr>\n",
       "    <tr>\n",
       "      <th>ele_engry_us_201607</th>\n",
       "      <td>43548</td>\n",
       "      <td>0.73567</td>\n",
       "    </tr>\n",
       "    <tr>\n",
       "      <th>ele_engry_us_201605</th>\n",
       "      <td>43548</td>\n",
       "      <td>0.73567</td>\n",
       "    </tr>\n",
       "    <tr>\n",
       "      <th>ele_engry_us_201604</th>\n",
       "      <td>43548</td>\n",
       "      <td>0.73567</td>\n",
       "    </tr>\n",
       "    <tr>\n",
       "      <th>ele_engry_us_201603</th>\n",
       "      <td>43548</td>\n",
       "      <td>0.73567</td>\n",
       "    </tr>\n",
       "    <tr>\n",
       "      <th>ele_engry_us_201602</th>\n",
       "      <td>43548</td>\n",
       "      <td>0.73567</td>\n",
       "    </tr>\n",
       "    <tr>\n",
       "      <th>ele_engry_us_201601</th>\n",
       "      <td>43548</td>\n",
       "      <td>0.73567</td>\n",
       "    </tr>\n",
       "    <tr>\n",
       "      <th>ele_engry_us_201706</th>\n",
       "      <td>43548</td>\n",
       "      <td>0.73567</td>\n",
       "    </tr>\n",
       "    <tr>\n",
       "      <th>ele_engry_us_201708</th>\n",
       "      <td>43548</td>\n",
       "      <td>0.73567</td>\n",
       "    </tr>\n",
       "    <tr>\n",
       "      <th>ele_engry_us_201511</th>\n",
       "      <td>43548</td>\n",
       "      <td>0.73567</td>\n",
       "    </tr>\n",
       "  </tbody>\n",
       "</table>\n",
       "</div>"
      ],
      "text/plain": [
       "                     Total  Percent\n",
       "ele_engry_us_201701  43548  0.73567\n",
       "ele_engry_us_201707  43548  0.73567\n",
       "ele_engry_us_201705  43548  0.73567\n",
       "ele_engry_us_201704  43548  0.73567\n",
       "ele_engry_us_201703  43548  0.73567\n",
       "ele_engry_us_201702  43548  0.73567\n",
       "ele_engry_us_201612  43548  0.73567\n",
       "ele_engry_us_201611  43548  0.73567\n",
       "ele_engry_us_201610  43548  0.73567\n",
       "ele_engry_us_201609  43548  0.73567\n",
       "ele_engry_us_201608  43548  0.73567\n",
       "ele_engry_us_201607  43548  0.73567\n",
       "ele_engry_us_201605  43548  0.73567\n",
       "ele_engry_us_201604  43548  0.73567\n",
       "ele_engry_us_201603  43548  0.73567\n",
       "ele_engry_us_201602  43548  0.73567\n",
       "ele_engry_us_201601  43548  0.73567\n",
       "ele_engry_us_201706  43548  0.73567\n",
       "ele_engry_us_201708  43548  0.73567\n",
       "ele_engry_us_201511  43548  0.73567"
      ]
     },
     "execution_count": 21,
     "metadata": {},
     "output_type": "execute_result"
    }
   ],
   "source": [
    "total = df[:number_of_train_data].isnull().sum().sort_values(ascending=False)\n",
    "percent = (df[:number_of_train_data].isnull().sum()/df[:number_of_train_data].isnull().count()).sort_values(ascending=False)\n",
    "missing_data = pd.concat([total, percent], axis=1, keys=['Total', 'Percent'])\n",
    "missing_data.head(20)"
   ]
  },
  {
   "cell_type": "code",
   "execution_count": 22,
   "id": "czech-object",
   "metadata": {
    "scrolled": false
   },
   "outputs": [
    {
     "data": {
      "text/plain": [
       "array([nan,  0.])"
      ]
     },
     "execution_count": 22,
     "metadata": {},
     "output_type": "execute_result"
    }
   ],
   "source": [
    "df[\"ele_engry_us_201609\"].unique()"
   ]
  },
  {
   "cell_type": "markdown",
   "id": "pharmaceutical-illness",
   "metadata": {},
   "source": [
    "- 전기 에너지 사용량인데 0밖에 없다?"
   ]
  },
  {
   "cell_type": "code",
   "execution_count": 23,
   "id": "searching-running",
   "metadata": {
    "scrolled": true
   },
   "outputs": [
    {
     "data": {
      "text/html": [
       "<div>\n",
       "<style scoped>\n",
       "    .dataframe tbody tr th:only-of-type {\n",
       "        vertical-align: middle;\n",
       "    }\n",
       "\n",
       "    .dataframe tbody tr th {\n",
       "        vertical-align: top;\n",
       "    }\n",
       "\n",
       "    .dataframe thead th {\n",
       "        text-align: right;\n",
       "    }\n",
       "</style>\n",
       "<table border=\"1\" class=\"dataframe\">\n",
       "  <thead>\n",
       "    <tr style=\"text-align: right;\">\n",
       "      <th></th>\n",
       "      <th>ele_engry_us_201609_0.0</th>\n",
       "      <th>ele_engry_us_201609_NA</th>\n",
       "      <th>화재발생_N</th>\n",
       "      <th>화재발생_Y</th>\n",
       "    </tr>\n",
       "  </thead>\n",
       "  <tbody>\n",
       "    <tr>\n",
       "      <th>ele_engry_us_201609_0.0</th>\n",
       "      <td>1.000000</td>\n",
       "      <td>-1.000000</td>\n",
       "      <td>-0.144047</td>\n",
       "      <td>0.130638</td>\n",
       "    </tr>\n",
       "    <tr>\n",
       "      <th>ele_engry_us_201609_NA</th>\n",
       "      <td>-1.000000</td>\n",
       "      <td>1.000000</td>\n",
       "      <td>0.144047</td>\n",
       "      <td>-0.130638</td>\n",
       "    </tr>\n",
       "    <tr>\n",
       "      <th>화재발생_N</th>\n",
       "      <td>-0.144047</td>\n",
       "      <td>0.144047</td>\n",
       "      <td>1.000000</td>\n",
       "      <td>-0.825976</td>\n",
       "    </tr>\n",
       "    <tr>\n",
       "      <th>화재발생_Y</th>\n",
       "      <td>0.130638</td>\n",
       "      <td>-0.130638</td>\n",
       "      <td>-0.825976</td>\n",
       "      <td>1.000000</td>\n",
       "    </tr>\n",
       "  </tbody>\n",
       "</table>\n",
       "</div>"
      ],
      "text/plain": [
       "                         ele_engry_us_201609_0.0  ele_engry_us_201609_NA  \\\n",
       "ele_engry_us_201609_0.0                 1.000000               -1.000000   \n",
       "ele_engry_us_201609_NA                 -1.000000                1.000000   \n",
       "화재발생_N                                 -0.144047                0.144047   \n",
       "화재발생_Y                                  0.130638               -0.130638   \n",
       "\n",
       "                           화재발생_N    화재발생_Y  \n",
       "ele_engry_us_201609_0.0 -0.144047  0.130638  \n",
       "ele_engry_us_201609_NA   0.144047 -0.130638  \n",
       "화재발생_N                   1.000000 -0.825976  \n",
       "화재발생_Y                  -0.825976  1.000000  "
      ]
     },
     "execution_count": 23,
     "metadata": {},
     "output_type": "execute_result"
    }
   ],
   "source": [
    "temp_df = pd.DataFrame(df[\"ele_engry_us_201609\"].fillna(\"NA\"))\n",
    "temp_df = pd.merge(pd.get_dummies(temp_df[[\"ele_engry_us_201609\"]]), y_train_onehot, left_index=True, right_index=True)\n",
    "temp_df.corr()"
   ]
  },
  {
   "cell_type": "markdown",
   "id": "closed-occasions",
   "metadata": {},
   "source": [
    "- 결측치가 90퍼센트 이상의 특성들보다는 상관관계가 높게 나왔지만, 전기 사용량을 의미하는 것이 NA 와 0 으로 구분되는 것은 의미 없다고 판단."
   ]
  },
  {
   "cell_type": "code",
   "execution_count": 24,
   "id": "modified-fraction",
   "metadata": {
    "scrolled": true
   },
   "outputs": [
    {
     "data": {
      "text/html": [
       "<div>\n",
       "<style scoped>\n",
       "    .dataframe tbody tr th:only-of-type {\n",
       "        vertical-align: middle;\n",
       "    }\n",
       "\n",
       "    .dataframe tbody tr th {\n",
       "        vertical-align: top;\n",
       "    }\n",
       "\n",
       "    .dataframe thead th {\n",
       "        text-align: right;\n",
       "    }\n",
       "</style>\n",
       "<table border=\"1\" class=\"dataframe\">\n",
       "  <thead>\n",
       "    <tr style=\"text-align: right;\">\n",
       "      <th></th>\n",
       "      <th>Total</th>\n",
       "      <th>Percent</th>\n",
       "    </tr>\n",
       "  </thead>\n",
       "  <tbody>\n",
       "    <tr>\n",
       "      <th>ele_engry_us_201701</th>\n",
       "      <td>43548</td>\n",
       "      <td>0.73567</td>\n",
       "    </tr>\n",
       "    <tr>\n",
       "      <th>ele_engry_us_201707</th>\n",
       "      <td>43548</td>\n",
       "      <td>0.73567</td>\n",
       "    </tr>\n",
       "    <tr>\n",
       "      <th>ele_engry_us_201705</th>\n",
       "      <td>43548</td>\n",
       "      <td>0.73567</td>\n",
       "    </tr>\n",
       "    <tr>\n",
       "      <th>ele_engry_us_201704</th>\n",
       "      <td>43548</td>\n",
       "      <td>0.73567</td>\n",
       "    </tr>\n",
       "    <tr>\n",
       "      <th>ele_engry_us_201703</th>\n",
       "      <td>43548</td>\n",
       "      <td>0.73567</td>\n",
       "    </tr>\n",
       "    <tr>\n",
       "      <th>ele_engry_us_201702</th>\n",
       "      <td>43548</td>\n",
       "      <td>0.73567</td>\n",
       "    </tr>\n",
       "    <tr>\n",
       "      <th>ele_engry_us_201612</th>\n",
       "      <td>43548</td>\n",
       "      <td>0.73567</td>\n",
       "    </tr>\n",
       "    <tr>\n",
       "      <th>ele_engry_us_201611</th>\n",
       "      <td>43548</td>\n",
       "      <td>0.73567</td>\n",
       "    </tr>\n",
       "    <tr>\n",
       "      <th>ele_engry_us_201610</th>\n",
       "      <td>43548</td>\n",
       "      <td>0.73567</td>\n",
       "    </tr>\n",
       "    <tr>\n",
       "      <th>ele_engry_us_201609</th>\n",
       "      <td>43548</td>\n",
       "      <td>0.73567</td>\n",
       "    </tr>\n",
       "    <tr>\n",
       "      <th>ele_engry_us_201608</th>\n",
       "      <td>43548</td>\n",
       "      <td>0.73567</td>\n",
       "    </tr>\n",
       "    <tr>\n",
       "      <th>ele_engry_us_201607</th>\n",
       "      <td>43548</td>\n",
       "      <td>0.73567</td>\n",
       "    </tr>\n",
       "    <tr>\n",
       "      <th>ele_engry_us_201605</th>\n",
       "      <td>43548</td>\n",
       "      <td>0.73567</td>\n",
       "    </tr>\n",
       "    <tr>\n",
       "      <th>ele_engry_us_201604</th>\n",
       "      <td>43548</td>\n",
       "      <td>0.73567</td>\n",
       "    </tr>\n",
       "    <tr>\n",
       "      <th>ele_engry_us_201603</th>\n",
       "      <td>43548</td>\n",
       "      <td>0.73567</td>\n",
       "    </tr>\n",
       "    <tr>\n",
       "      <th>ele_engry_us_201602</th>\n",
       "      <td>43548</td>\n",
       "      <td>0.73567</td>\n",
       "    </tr>\n",
       "    <tr>\n",
       "      <th>ele_engry_us_201601</th>\n",
       "      <td>43548</td>\n",
       "      <td>0.73567</td>\n",
       "    </tr>\n",
       "    <tr>\n",
       "      <th>ele_engry_us_201706</th>\n",
       "      <td>43548</td>\n",
       "      <td>0.73567</td>\n",
       "    </tr>\n",
       "    <tr>\n",
       "      <th>ele_engry_us_201708</th>\n",
       "      <td>43548</td>\n",
       "      <td>0.73567</td>\n",
       "    </tr>\n",
       "    <tr>\n",
       "      <th>ele_engry_us_201511</th>\n",
       "      <td>43548</td>\n",
       "      <td>0.73567</td>\n",
       "    </tr>\n",
       "    <tr>\n",
       "      <th>ele_engry_us_201709</th>\n",
       "      <td>43548</td>\n",
       "      <td>0.73567</td>\n",
       "    </tr>\n",
       "    <tr>\n",
       "      <th>ele_engry_us_201812</th>\n",
       "      <td>43548</td>\n",
       "      <td>0.73567</td>\n",
       "    </tr>\n",
       "    <tr>\n",
       "      <th>ele_engry_us_201811</th>\n",
       "      <td>43548</td>\n",
       "      <td>0.73567</td>\n",
       "    </tr>\n",
       "    <tr>\n",
       "      <th>ele_engry_us_201810</th>\n",
       "      <td>43548</td>\n",
       "      <td>0.73567</td>\n",
       "    </tr>\n",
       "    <tr>\n",
       "      <th>ele_engry_us_201809</th>\n",
       "      <td>43548</td>\n",
       "      <td>0.73567</td>\n",
       "    </tr>\n",
       "    <tr>\n",
       "      <th>ele_engry_us_201808</th>\n",
       "      <td>43548</td>\n",
       "      <td>0.73567</td>\n",
       "    </tr>\n",
       "    <tr>\n",
       "      <th>ele_engry_us_201807</th>\n",
       "      <td>43548</td>\n",
       "      <td>0.73567</td>\n",
       "    </tr>\n",
       "    <tr>\n",
       "      <th>ele_engry_us_201806</th>\n",
       "      <td>43548</td>\n",
       "      <td>0.73567</td>\n",
       "    </tr>\n",
       "    <tr>\n",
       "      <th>ele_engry_us_201805</th>\n",
       "      <td>43548</td>\n",
       "      <td>0.73567</td>\n",
       "    </tr>\n",
       "    <tr>\n",
       "      <th>ele_engry_us_201804</th>\n",
       "      <td>43548</td>\n",
       "      <td>0.73567</td>\n",
       "    </tr>\n",
       "    <tr>\n",
       "      <th>ele_engry_us_201803</th>\n",
       "      <td>43548</td>\n",
       "      <td>0.73567</td>\n",
       "    </tr>\n",
       "    <tr>\n",
       "      <th>ele_engry_us_201802</th>\n",
       "      <td>43548</td>\n",
       "      <td>0.73567</td>\n",
       "    </tr>\n",
       "    <tr>\n",
       "      <th>ele_engry_us_201801</th>\n",
       "      <td>43548</td>\n",
       "      <td>0.73567</td>\n",
       "    </tr>\n",
       "    <tr>\n",
       "      <th>ele_engry_us_201712</th>\n",
       "      <td>43548</td>\n",
       "      <td>0.73567</td>\n",
       "    </tr>\n",
       "    <tr>\n",
       "      <th>ele_engry_us_201711</th>\n",
       "      <td>43548</td>\n",
       "      <td>0.73567</td>\n",
       "    </tr>\n",
       "    <tr>\n",
       "      <th>ele_engry_us_201710</th>\n",
       "      <td>43548</td>\n",
       "      <td>0.73567</td>\n",
       "    </tr>\n",
       "    <tr>\n",
       "      <th>ele_engry_us_201512</th>\n",
       "      <td>43548</td>\n",
       "      <td>0.73567</td>\n",
       "    </tr>\n",
       "    <tr>\n",
       "      <th>ele_engry_us_201606</th>\n",
       "      <td>43548</td>\n",
       "      <td>0.73567</td>\n",
       "    </tr>\n",
       "    <tr>\n",
       "      <th>ele_engry_us_201510</th>\n",
       "      <td>43548</td>\n",
       "      <td>0.73567</td>\n",
       "    </tr>\n",
       "    <tr>\n",
       "      <th>ele_engry_us_201411</th>\n",
       "      <td>43548</td>\n",
       "      <td>0.73567</td>\n",
       "    </tr>\n",
       "    <tr>\n",
       "      <th>ele_engry_us_201509</th>\n",
       "      <td>43548</td>\n",
       "      <td>0.73567</td>\n",
       "    </tr>\n",
       "    <tr>\n",
       "      <th>ele_engry_us_201401</th>\n",
       "      <td>43548</td>\n",
       "      <td>0.73567</td>\n",
       "    </tr>\n",
       "    <tr>\n",
       "      <th>ele_engry_us_201402</th>\n",
       "      <td>43548</td>\n",
       "      <td>0.73567</td>\n",
       "    </tr>\n",
       "    <tr>\n",
       "      <th>ele_engry_us_201403</th>\n",
       "      <td>43548</td>\n",
       "      <td>0.73567</td>\n",
       "    </tr>\n",
       "    <tr>\n",
       "      <th>ele_engry_us_201404</th>\n",
       "      <td>43548</td>\n",
       "      <td>0.73567</td>\n",
       "    </tr>\n",
       "    <tr>\n",
       "      <th>ele_engry_us_201405</th>\n",
       "      <td>43548</td>\n",
       "      <td>0.73567</td>\n",
       "    </tr>\n",
       "    <tr>\n",
       "      <th>ele_engry_us_201407</th>\n",
       "      <td>43548</td>\n",
       "      <td>0.73567</td>\n",
       "    </tr>\n",
       "    <tr>\n",
       "      <th>ele_engry_us_201408</th>\n",
       "      <td>43548</td>\n",
       "      <td>0.73567</td>\n",
       "    </tr>\n",
       "    <tr>\n",
       "      <th>ele_engry_us_201409</th>\n",
       "      <td>43548</td>\n",
       "      <td>0.73567</td>\n",
       "    </tr>\n",
       "    <tr>\n",
       "      <th>ele_engry_us_201410</th>\n",
       "      <td>43548</td>\n",
       "      <td>0.73567</td>\n",
       "    </tr>\n",
       "    <tr>\n",
       "      <th>ele_engry_us_201406</th>\n",
       "      <td>43548</td>\n",
       "      <td>0.73567</td>\n",
       "    </tr>\n",
       "    <tr>\n",
       "      <th>ele_engry_us_201412</th>\n",
       "      <td>43548</td>\n",
       "      <td>0.73567</td>\n",
       "    </tr>\n",
       "    <tr>\n",
       "      <th>ele_engry_us_201507</th>\n",
       "      <td>43548</td>\n",
       "      <td>0.73567</td>\n",
       "    </tr>\n",
       "    <tr>\n",
       "      <th>ele_engry_us_201501</th>\n",
       "      <td>43548</td>\n",
       "      <td>0.73567</td>\n",
       "    </tr>\n",
       "    <tr>\n",
       "      <th>ele_engry_us_201502</th>\n",
       "      <td>43548</td>\n",
       "      <td>0.73567</td>\n",
       "    </tr>\n",
       "    <tr>\n",
       "      <th>ele_engry_us_201503</th>\n",
       "      <td>43548</td>\n",
       "      <td>0.73567</td>\n",
       "    </tr>\n",
       "    <tr>\n",
       "      <th>ele_engry_us_201508</th>\n",
       "      <td>43548</td>\n",
       "      <td>0.73567</td>\n",
       "    </tr>\n",
       "    <tr>\n",
       "      <th>ele_engry_us_201504</th>\n",
       "      <td>43548</td>\n",
       "      <td>0.73567</td>\n",
       "    </tr>\n",
       "    <tr>\n",
       "      <th>ele_engry_us_201505</th>\n",
       "      <td>43548</td>\n",
       "      <td>0.73567</td>\n",
       "    </tr>\n",
       "    <tr>\n",
       "      <th>ele_engry_us_201506</th>\n",
       "      <td>43548</td>\n",
       "      <td>0.73567</td>\n",
       "    </tr>\n",
       "  </tbody>\n",
       "</table>\n",
       "</div>"
      ],
      "text/plain": [
       "                     Total  Percent\n",
       "ele_engry_us_201701  43548  0.73567\n",
       "ele_engry_us_201707  43548  0.73567\n",
       "ele_engry_us_201705  43548  0.73567\n",
       "ele_engry_us_201704  43548  0.73567\n",
       "ele_engry_us_201703  43548  0.73567\n",
       "ele_engry_us_201702  43548  0.73567\n",
       "ele_engry_us_201612  43548  0.73567\n",
       "ele_engry_us_201611  43548  0.73567\n",
       "ele_engry_us_201610  43548  0.73567\n",
       "ele_engry_us_201609  43548  0.73567\n",
       "ele_engry_us_201608  43548  0.73567\n",
       "ele_engry_us_201607  43548  0.73567\n",
       "ele_engry_us_201605  43548  0.73567\n",
       "ele_engry_us_201604  43548  0.73567\n",
       "ele_engry_us_201603  43548  0.73567\n",
       "ele_engry_us_201602  43548  0.73567\n",
       "ele_engry_us_201601  43548  0.73567\n",
       "ele_engry_us_201706  43548  0.73567\n",
       "ele_engry_us_201708  43548  0.73567\n",
       "ele_engry_us_201511  43548  0.73567\n",
       "ele_engry_us_201709  43548  0.73567\n",
       "ele_engry_us_201812  43548  0.73567\n",
       "ele_engry_us_201811  43548  0.73567\n",
       "ele_engry_us_201810  43548  0.73567\n",
       "ele_engry_us_201809  43548  0.73567\n",
       "ele_engry_us_201808  43548  0.73567\n",
       "ele_engry_us_201807  43548  0.73567\n",
       "ele_engry_us_201806  43548  0.73567\n",
       "ele_engry_us_201805  43548  0.73567\n",
       "ele_engry_us_201804  43548  0.73567\n",
       "ele_engry_us_201803  43548  0.73567\n",
       "ele_engry_us_201802  43548  0.73567\n",
       "ele_engry_us_201801  43548  0.73567\n",
       "ele_engry_us_201712  43548  0.73567\n",
       "ele_engry_us_201711  43548  0.73567\n",
       "ele_engry_us_201710  43548  0.73567\n",
       "ele_engry_us_201512  43548  0.73567\n",
       "ele_engry_us_201606  43548  0.73567\n",
       "ele_engry_us_201510  43548  0.73567\n",
       "ele_engry_us_201411  43548  0.73567\n",
       "ele_engry_us_201509  43548  0.73567\n",
       "ele_engry_us_201401  43548  0.73567\n",
       "ele_engry_us_201402  43548  0.73567\n",
       "ele_engry_us_201403  43548  0.73567\n",
       "ele_engry_us_201404  43548  0.73567\n",
       "ele_engry_us_201405  43548  0.73567\n",
       "ele_engry_us_201407  43548  0.73567\n",
       "ele_engry_us_201408  43548  0.73567\n",
       "ele_engry_us_201409  43548  0.73567\n",
       "ele_engry_us_201410  43548  0.73567\n",
       "ele_engry_us_201406  43548  0.73567\n",
       "ele_engry_us_201412  43548  0.73567\n",
       "ele_engry_us_201507  43548  0.73567\n",
       "ele_engry_us_201501  43548  0.73567\n",
       "ele_engry_us_201502  43548  0.73567\n",
       "ele_engry_us_201503  43548  0.73567\n",
       "ele_engry_us_201508  43548  0.73567\n",
       "ele_engry_us_201504  43548  0.73567\n",
       "ele_engry_us_201505  43548  0.73567\n",
       "ele_engry_us_201506  43548  0.73567"
      ]
     },
     "execution_count": 24,
     "metadata": {},
     "output_type": "execute_result"
    }
   ],
   "source": [
    "missing_data.head(60)"
   ]
  },
  {
   "cell_type": "code",
   "execution_count": 25,
   "id": "opposite-joseph",
   "metadata": {},
   "outputs": [],
   "source": [
    "df = df.drop(missing_data.head(60).index[:], axis=1)\n",
    "df_train = df_train.drop(missing_data.head(60).index[:], axis=1)"
   ]
  },
  {
   "cell_type": "code",
   "execution_count": 26,
   "id": "certain-inclusion",
   "metadata": {},
   "outputs": [
    {
     "data": {
      "text/html": [
       "<div>\n",
       "<style scoped>\n",
       "    .dataframe tbody tr th:only-of-type {\n",
       "        vertical-align: middle;\n",
       "    }\n",
       "\n",
       "    .dataframe tbody tr th {\n",
       "        vertical-align: top;\n",
       "    }\n",
       "\n",
       "    .dataframe thead th {\n",
       "        text-align: right;\n",
       "    }\n",
       "</style>\n",
       "<table border=\"1\" class=\"dataframe\">\n",
       "  <thead>\n",
       "    <tr style=\"text-align: right;\">\n",
       "      <th></th>\n",
       "      <th>Total</th>\n",
       "      <th>Percent</th>\n",
       "    </tr>\n",
       "  </thead>\n",
       "  <tbody>\n",
       "    <tr>\n",
       "      <th>건물용도분류명</th>\n",
       "      <td>29341</td>\n",
       "      <td>0.495667</td>\n",
       "    </tr>\n",
       "    <tr>\n",
       "      <th>건물용도</th>\n",
       "      <td>27675</td>\n",
       "      <td>0.467523</td>\n",
       "    </tr>\n",
       "    <tr>\n",
       "      <th>건물구조</th>\n",
       "      <td>27663</td>\n",
       "      <td>0.467320</td>\n",
       "    </tr>\n",
       "    <tr>\n",
       "      <th>건물승인일자</th>\n",
       "      <td>27579</td>\n",
       "      <td>0.465901</td>\n",
       "    </tr>\n",
       "    <tr>\n",
       "      <th>건물면적당가격</th>\n",
       "      <td>21892</td>\n",
       "      <td>0.369829</td>\n",
       "    </tr>\n",
       "    <tr>\n",
       "      <th>건물들지하층수합</th>\n",
       "      <td>11004</td>\n",
       "      <td>0.185894</td>\n",
       "    </tr>\n",
       "    <tr>\n",
       "      <th>건물들지상층수합</th>\n",
       "      <td>10209</td>\n",
       "      <td>0.172464</td>\n",
       "    </tr>\n",
       "    <tr>\n",
       "      <th>토지이용상황명</th>\n",
       "      <td>1772</td>\n",
       "      <td>0.029935</td>\n",
       "    </tr>\n",
       "    <tr>\n",
       "      <th>용도지역지구명</th>\n",
       "      <td>1487</td>\n",
       "      <td>0.025120</td>\n",
       "    </tr>\n",
       "    <tr>\n",
       "      <th>도로측면명</th>\n",
       "      <td>1487</td>\n",
       "      <td>0.025120</td>\n",
       "    </tr>\n",
       "    <tr>\n",
       "      <th>용도지역지구명2</th>\n",
       "      <td>1487</td>\n",
       "      <td>0.025120</td>\n",
       "    </tr>\n",
       "    <tr>\n",
       "      <th>행정구역인구</th>\n",
       "      <td>697</td>\n",
       "      <td>0.011775</td>\n",
       "    </tr>\n",
       "    <tr>\n",
       "      <th>풍향</th>\n",
       "      <td>221</td>\n",
       "      <td>0.003733</td>\n",
       "    </tr>\n",
       "    <tr>\n",
       "      <th>관할소방서인원</th>\n",
       "      <td>41</td>\n",
       "      <td>0.000693</td>\n",
       "    </tr>\n",
       "    <tr>\n",
       "      <th>풍속</th>\n",
       "      <td>33</td>\n",
       "      <td>0.000557</td>\n",
       "    </tr>\n",
       "    <tr>\n",
       "      <th>습도</th>\n",
       "      <td>22</td>\n",
       "      <td>0.000372</td>\n",
       "    </tr>\n",
       "    <tr>\n",
       "      <th>온도</th>\n",
       "      <td>13</td>\n",
       "      <td>0.000220</td>\n",
       "    </tr>\n",
       "    <tr>\n",
       "      <th>시간</th>\n",
       "      <td>0</td>\n",
       "      <td>0.000000</td>\n",
       "    </tr>\n",
       "    <tr>\n",
       "      <th>백미터이내소방용수시설수</th>\n",
       "      <td>0</td>\n",
       "      <td>0.000000</td>\n",
       "    </tr>\n",
       "    <tr>\n",
       "      <th>월</th>\n",
       "      <td>0</td>\n",
       "      <td>0.000000</td>\n",
       "    </tr>\n",
       "  </tbody>\n",
       "</table>\n",
       "</div>"
      ],
      "text/plain": [
       "              Total   Percent\n",
       "건물용도분류명       29341  0.495667\n",
       "건물용도          27675  0.467523\n",
       "건물구조          27663  0.467320\n",
       "건물승인일자        27579  0.465901\n",
       "건물면적당가격       21892  0.369829\n",
       "건물들지하층수합      11004  0.185894\n",
       "건물들지상층수합      10209  0.172464\n",
       "토지이용상황명        1772  0.029935\n",
       "용도지역지구명        1487  0.025120\n",
       "도로측면명          1487  0.025120\n",
       "용도지역지구명2       1487  0.025120\n",
       "행정구역인구          697  0.011775\n",
       "풍향              221  0.003733\n",
       "관할소방서인원          41  0.000693\n",
       "풍속               33  0.000557\n",
       "습도               22  0.000372\n",
       "온도               13  0.000220\n",
       "시간                0  0.000000\n",
       "백미터이내소방용수시설수      0  0.000000\n",
       "월                 0  0.000000"
      ]
     },
     "execution_count": 26,
     "metadata": {},
     "output_type": "execute_result"
    }
   ],
   "source": [
    "total = df[:number_of_train_data].isnull().sum().sort_values(ascending=False)\n",
    "percent = (df[:number_of_train_data].isnull().sum()/df[:number_of_train_data].isnull().count()).sort_values(ascending=False)\n",
    "missing_data = pd.concat([total, percent], axis=1, keys=['Total', 'Percent'])\n",
    "missing_data.head(20)"
   ]
  },
  {
   "cell_type": "markdown",
   "id": "comfortable-possibility",
   "metadata": {},
   "source": [
    "- 범주형 데이터는 NA 범주 생성해주기"
   ]
  },
  {
   "cell_type": "markdown",
   "id": "regular-lodging",
   "metadata": {},
   "source": [
    "### 건물용도분류명"
   ]
  },
  {
   "cell_type": "code",
   "execution_count": 27,
   "id": "strange-binary",
   "metadata": {},
   "outputs": [
    {
     "data": {
      "text/plain": [
       "array([nan, '공공용', '주거용', '상업용', '공업용', '문교사회용', '농수산용', '기타'],\n",
       "      dtype=object)"
      ]
     },
     "execution_count": 27,
     "metadata": {},
     "output_type": "execute_result"
    }
   ],
   "source": [
    "df[\"건물용도분류명\"].unique()"
   ]
  },
  {
   "cell_type": "code",
   "execution_count": 28,
   "id": "inclusive-location",
   "metadata": {},
   "outputs": [],
   "source": [
    "df[\"건물용도분류명\"] = df[\"건물용도분류명\"].fillna(\"NA\")"
   ]
  },
  {
   "cell_type": "code",
   "execution_count": 29,
   "id": "spectacular-finger",
   "metadata": {},
   "outputs": [
    {
     "data": {
      "text/html": [
       "<div>\n",
       "<style scoped>\n",
       "    .dataframe tbody tr th:only-of-type {\n",
       "        vertical-align: middle;\n",
       "    }\n",
       "\n",
       "    .dataframe tbody tr th {\n",
       "        vertical-align: top;\n",
       "    }\n",
       "\n",
       "    .dataframe thead th {\n",
       "        text-align: right;\n",
       "    }\n",
       "</style>\n",
       "<table border=\"1\" class=\"dataframe\">\n",
       "  <thead>\n",
       "    <tr style=\"text-align: right;\">\n",
       "      <th></th>\n",
       "      <th>건물용도분류명_NA</th>\n",
       "      <th>건물용도분류명_공공용</th>\n",
       "      <th>건물용도분류명_공업용</th>\n",
       "      <th>건물용도분류명_기타</th>\n",
       "      <th>건물용도분류명_농수산용</th>\n",
       "      <th>건물용도분류명_문교사회용</th>\n",
       "      <th>건물용도분류명_상업용</th>\n",
       "      <th>건물용도분류명_주거용</th>\n",
       "      <th>화재발생_N</th>\n",
       "      <th>화재발생_Y</th>\n",
       "    </tr>\n",
       "  </thead>\n",
       "  <tbody>\n",
       "    <tr>\n",
       "      <th>건물용도분류명_NA</th>\n",
       "      <td>1.000000</td>\n",
       "      <td>-0.023585</td>\n",
       "      <td>-0.146053</td>\n",
       "      <td>-0.174196</td>\n",
       "      <td>-0.140967</td>\n",
       "      <td>-0.105424</td>\n",
       "      <td>-0.312144</td>\n",
       "      <td>-0.686851</td>\n",
       "      <td>0.342259</td>\n",
       "      <td>-0.317826</td>\n",
       "    </tr>\n",
       "    <tr>\n",
       "      <th>건물용도분류명_공공용</th>\n",
       "      <td>-0.023585</td>\n",
       "      <td>1.000000</td>\n",
       "      <td>-0.003689</td>\n",
       "      <td>-0.004399</td>\n",
       "      <td>-0.003560</td>\n",
       "      <td>-0.002663</td>\n",
       "      <td>-0.007883</td>\n",
       "      <td>-0.017347</td>\n",
       "      <td>-0.023984</td>\n",
       "      <td>0.024973</td>\n",
       "    </tr>\n",
       "    <tr>\n",
       "      <th>건물용도분류명_공업용</th>\n",
       "      <td>-0.146053</td>\n",
       "      <td>-0.003689</td>\n",
       "      <td>1.000000</td>\n",
       "      <td>-0.027244</td>\n",
       "      <td>-0.022047</td>\n",
       "      <td>-0.016488</td>\n",
       "      <td>-0.048819</td>\n",
       "      <td>-0.107423</td>\n",
       "      <td>-0.199660</td>\n",
       "      <td>0.136182</td>\n",
       "    </tr>\n",
       "    <tr>\n",
       "      <th>건물용도분류명_기타</th>\n",
       "      <td>-0.174196</td>\n",
       "      <td>-0.004399</td>\n",
       "      <td>-0.027244</td>\n",
       "      <td>1.000000</td>\n",
       "      <td>-0.026295</td>\n",
       "      <td>-0.019665</td>\n",
       "      <td>-0.058226</td>\n",
       "      <td>-0.128122</td>\n",
       "      <td>-0.041633</td>\n",
       "      <td>0.057782</td>\n",
       "    </tr>\n",
       "    <tr>\n",
       "      <th>건물용도분류명_농수산용</th>\n",
       "      <td>-0.140967</td>\n",
       "      <td>-0.003560</td>\n",
       "      <td>-0.022047</td>\n",
       "      <td>-0.026295</td>\n",
       "      <td>1.000000</td>\n",
       "      <td>-0.015914</td>\n",
       "      <td>-0.047119</td>\n",
       "      <td>-0.103682</td>\n",
       "      <td>-0.047856</td>\n",
       "      <td>0.051577</td>\n",
       "    </tr>\n",
       "    <tr>\n",
       "      <th>건물용도분류명_문교사회용</th>\n",
       "      <td>-0.105424</td>\n",
       "      <td>-0.002663</td>\n",
       "      <td>-0.016488</td>\n",
       "      <td>-0.019665</td>\n",
       "      <td>-0.015914</td>\n",
       "      <td>1.000000</td>\n",
       "      <td>-0.035238</td>\n",
       "      <td>-0.077540</td>\n",
       "      <td>-0.076216</td>\n",
       "      <td>0.078539</td>\n",
       "    </tr>\n",
       "    <tr>\n",
       "      <th>건물용도분류명_상업용</th>\n",
       "      <td>-0.312144</td>\n",
       "      <td>-0.007883</td>\n",
       "      <td>-0.048819</td>\n",
       "      <td>-0.058226</td>\n",
       "      <td>-0.047119</td>\n",
       "      <td>-0.035238</td>\n",
       "      <td>1.000000</td>\n",
       "      <td>-0.229583</td>\n",
       "      <td>-0.199439</td>\n",
       "      <td>0.194273</td>\n",
       "    </tr>\n",
       "    <tr>\n",
       "      <th>건물용도분류명_주거용</th>\n",
       "      <td>-0.686851</td>\n",
       "      <td>-0.017347</td>\n",
       "      <td>-0.107423</td>\n",
       "      <td>-0.128122</td>\n",
       "      <td>-0.103682</td>\n",
       "      <td>-0.077540</td>\n",
       "      <td>-0.229583</td>\n",
       "      <td>1.000000</td>\n",
       "      <td>-0.127670</td>\n",
       "      <td>0.117199</td>\n",
       "    </tr>\n",
       "    <tr>\n",
       "      <th>화재발생_N</th>\n",
       "      <td>0.342259</td>\n",
       "      <td>-0.023984</td>\n",
       "      <td>-0.199660</td>\n",
       "      <td>-0.041633</td>\n",
       "      <td>-0.047856</td>\n",
       "      <td>-0.076216</td>\n",
       "      <td>-0.199439</td>\n",
       "      <td>-0.127670</td>\n",
       "      <td>1.000000</td>\n",
       "      <td>-0.825976</td>\n",
       "    </tr>\n",
       "    <tr>\n",
       "      <th>화재발생_Y</th>\n",
       "      <td>-0.317826</td>\n",
       "      <td>0.024973</td>\n",
       "      <td>0.136182</td>\n",
       "      <td>0.057782</td>\n",
       "      <td>0.051577</td>\n",
       "      <td>0.078539</td>\n",
       "      <td>0.194273</td>\n",
       "      <td>0.117199</td>\n",
       "      <td>-0.825976</td>\n",
       "      <td>1.000000</td>\n",
       "    </tr>\n",
       "  </tbody>\n",
       "</table>\n",
       "</div>"
      ],
      "text/plain": [
       "               건물용도분류명_NA  건물용도분류명_공공용  건물용도분류명_공업용  건물용도분류명_기타  건물용도분류명_농수산용  \\\n",
       "건물용도분류명_NA       1.000000    -0.023585    -0.146053   -0.174196     -0.140967   \n",
       "건물용도분류명_공공용     -0.023585     1.000000    -0.003689   -0.004399     -0.003560   \n",
       "건물용도분류명_공업용     -0.146053    -0.003689     1.000000   -0.027244     -0.022047   \n",
       "건물용도분류명_기타      -0.174196    -0.004399    -0.027244    1.000000     -0.026295   \n",
       "건물용도분류명_농수산용    -0.140967    -0.003560    -0.022047   -0.026295      1.000000   \n",
       "건물용도분류명_문교사회용   -0.105424    -0.002663    -0.016488   -0.019665     -0.015914   \n",
       "건물용도분류명_상업용     -0.312144    -0.007883    -0.048819   -0.058226     -0.047119   \n",
       "건물용도분류명_주거용     -0.686851    -0.017347    -0.107423   -0.128122     -0.103682   \n",
       "화재발생_N           0.342259    -0.023984    -0.199660   -0.041633     -0.047856   \n",
       "화재발생_Y          -0.317826     0.024973     0.136182    0.057782      0.051577   \n",
       "\n",
       "               건물용도분류명_문교사회용  건물용도분류명_상업용  건물용도분류명_주거용    화재발생_N    화재발생_Y  \n",
       "건물용도분류명_NA         -0.105424    -0.312144    -0.686851  0.342259 -0.317826  \n",
       "건물용도분류명_공공용        -0.002663    -0.007883    -0.017347 -0.023984  0.024973  \n",
       "건물용도분류명_공업용        -0.016488    -0.048819    -0.107423 -0.199660  0.136182  \n",
       "건물용도분류명_기타         -0.019665    -0.058226    -0.128122 -0.041633  0.057782  \n",
       "건물용도분류명_농수산용       -0.015914    -0.047119    -0.103682 -0.047856  0.051577  \n",
       "건물용도분류명_문교사회용       1.000000    -0.035238    -0.077540 -0.076216  0.078539  \n",
       "건물용도분류명_상업용        -0.035238     1.000000    -0.229583 -0.199439  0.194273  \n",
       "건물용도분류명_주거용        -0.077540    -0.229583     1.000000 -0.127670  0.117199  \n",
       "화재발생_N             -0.076216    -0.199439    -0.127670  1.000000 -0.825976  \n",
       "화재발생_Y              0.078539     0.194273     0.117199 -0.825976  1.000000  "
      ]
     },
     "execution_count": 29,
     "metadata": {},
     "output_type": "execute_result"
    }
   ],
   "source": [
    "temp_df = pd.merge(pd.get_dummies(df[[\"건물용도분류명\"]]), y_train_onehot, left_index=True, right_index=True)\n",
    "temp_df.corr()"
   ]
  },
  {
   "cell_type": "markdown",
   "id": "accepted-classification",
   "metadata": {},
   "source": [
    "### 건물용도"
   ]
  },
  {
   "cell_type": "code",
   "execution_count": 30,
   "id": "instrumental-poison",
   "metadata": {},
   "outputs": [
    {
     "data": {
      "text/plain": [
       "array([nan, '업무시설', '단독주택', '위험물저장및처리시설', '공동주택', '제1종근린생활시설', '공장',\n",
       "       '제2종근린생활시설', '노유자시설', '운동시설', '동.식물 관련시설', '창고시설', '의료시설', '위락시설',\n",
       "       '자동차관련시설', '종교시설', '근린생활시설', '분뇨.쓰레기처리시설', '숙박시설', '교육연구시설',\n",
       "       '발전시설', '관광휴게시설', '판매시설', '수련시설', '문화및집회시설', '묘지관련시설', '방송통신시설',\n",
       "       '장례식장', '운수시설', '교정및군사시설', '교육연구및복지시설', '파출소', '판매및영업시설', '시장',\n",
       "       '공공용시설'], dtype=object)"
      ]
     },
     "execution_count": 30,
     "metadata": {},
     "output_type": "execute_result"
    }
   ],
   "source": [
    "df[\"건물용도\"].unique()"
   ]
  },
  {
   "cell_type": "code",
   "execution_count": 31,
   "id": "center-biology",
   "metadata": {},
   "outputs": [],
   "source": [
    "df[\"건물용도\"] = df[\"건물용도\"].fillna(\"NA\")"
   ]
  },
  {
   "cell_type": "markdown",
   "id": "regulated-parade",
   "metadata": {},
   "source": [
    "### 건물구조"
   ]
  },
  {
   "cell_type": "code",
   "execution_count": 32,
   "id": "gorgeous-profile",
   "metadata": {
    "scrolled": true
   },
   "outputs": [
    {
     "data": {
      "text/plain": [
       "array([nan, '철근콘크리트구조', '블록구조', '벽돌구조', '경량철골구조', '일반목구조', '일반철골구조',\n",
       "       '기타구조', '강파이프구조', '조적구조', '석구조', '기타조적구조', '통나무구조', '철골콘크리트구조',\n",
       "       '철골철근콘크리트구조', '기타강구조', '프리케스트콘크리트구조', '목구조', '기타콘크리트구조'],\n",
       "      dtype=object)"
      ]
     },
     "execution_count": 32,
     "metadata": {},
     "output_type": "execute_result"
    }
   ],
   "source": [
    "df[\"건물구조\"].unique()"
   ]
  },
  {
   "cell_type": "code",
   "execution_count": 33,
   "id": "dying-craps",
   "metadata": {},
   "outputs": [],
   "source": [
    "# 목구조, 콘크리트구조, 벽돌구조, 철골구조, 조적구조 묶어주기\n",
    "df['건물구조'] = ['목구조' if x in ['일반목구조','통나무구조','목구조'] else '콘크리트구조' if x in ['철근콘크리트구조','철골콘크리트구조','철골철근콘크리트구조',\\\n",
    "     '프리케스트콘크리트구조','기타콘크리트구조'] else '벽돌구조' if x in ['블록구조','벽돌구조'] else '철골구조' if x in ['경량철골구조', '일반철골구조'] \n",
    "     else '조적구조' if x in ['조적구조', '기타조적구조'] else x for x in df['건물구조']]"
   ]
  },
  {
   "cell_type": "code",
   "execution_count": 34,
   "id": "removed-strength",
   "metadata": {},
   "outputs": [
    {
     "data": {
      "text/plain": [
       "array([nan, '콘크리트구조', '벽돌구조', '철골구조', '목구조', '기타구조', '강파이프구조', '조적구조',\n",
       "       '석구조', '기타강구조'], dtype=object)"
      ]
     },
     "execution_count": 34,
     "metadata": {},
     "output_type": "execute_result"
    }
   ],
   "source": [
    "df['건물구조'].unique()"
   ]
  },
  {
   "cell_type": "code",
   "execution_count": 35,
   "id": "collect-conditions",
   "metadata": {},
   "outputs": [],
   "source": [
    "df[\"건물구조\"] = df[\"건물구조\"].fillna(\"NA\")"
   ]
  },
  {
   "cell_type": "markdown",
   "id": "first-bracket",
   "metadata": {},
   "source": [
    "### 건물승인일자"
   ]
  },
  {
   "cell_type": "code",
   "execution_count": 36,
   "id": "printable-solution",
   "metadata": {
    "scrolled": true
   },
   "outputs": [
    {
     "data": {
      "text/plain": [
       "0               NaN\n",
       "1        19881010.0\n",
       "2        19650101.0\n",
       "3        20020129.0\n",
       "4               NaN\n",
       "            ...    \n",
       "62147    20160107.0\n",
       "62148    19980323.0\n",
       "62149    20050608.0\n",
       "62150    20140502.0\n",
       "62151    20130701.0\n",
       "Name: 건물승인일자, Length: 62152, dtype: object"
      ]
     },
     "execution_count": 36,
     "metadata": {},
     "output_type": "execute_result"
    }
   ],
   "source": [
    "df[\"건물승인일자\"]"
   ]
  },
  {
   "cell_type": "code",
   "execution_count": 37,
   "id": "designed-batch",
   "metadata": {},
   "outputs": [],
   "source": [
    "df[\"건물승인일자\"] = df[\"건물승인일자\"].fillna(9999)\n",
    "# 년도만 남기기\n",
    "df[\"건물승인일자\"] = df[\"건물승인일자\"].astype(str).map(lambda x: x[0:4])"
   ]
  },
  {
   "cell_type": "code",
   "execution_count": 38,
   "id": "hairy-anxiety",
   "metadata": {},
   "outputs": [
    {
     "data": {
      "text/plain": [
       "array(['1646', '1740', '1742', '1751', '1790', '1800', '1801', '1811',\n",
       "       '1819', '1820', '1821', '1840', '1843', '1850', '1852', '1855',\n",
       "       '1860', '1861', '1862', '1863', '1865', '1866', '1867', '1870',\n",
       "       '1871', '1872', '1873', '1874', '1875', '1876', '1877', '1878',\n",
       "       '1880', '1882', '1883', '1884', '1885', '1887', '1889', '1890',\n",
       "       '1891', '1892', '1893', '1894', '1895', '1896', '1898', '1899',\n",
       "       '1900', '1901', '1902', '1903', '1904', '1905', '1906', '1907',\n",
       "       '1908', '1909', '1910', '1911', '1912', '1913', '1914', '1915',\n",
       "       '1916', '1917', '1918', '1919', '1920', '1921', '1922', '1923',\n",
       "       '1924', '1925', '1926', '1927', '1928', '1929', '1930', '1931',\n",
       "       '1932', '1933', '1934', '1935', '1936', '1937', '1938', '1939',\n",
       "       '1940', '1941', '1942', '1943', '1944', '1945', '1946', '1947',\n",
       "       '1948', '1949', '1950', '1951', '1952', '1953', '1954', '1955',\n",
       "       '1956', '1957', '1958', '1959', '1960', '1961', '1962', '1963',\n",
       "       '1964', '1965', '1966', '1967', '1968', '1969', '1970', '1971',\n",
       "       '1972', '1973', '1974', '1975', '1976', '1977', '1978', '1979',\n",
       "       '1980', '1981', '1982', '1983', '1984', '1985', '1986', '1987',\n",
       "       '1988', '1989', '1990', '1991', '1992', '1993', '1994', '1995',\n",
       "       '1996', '1997', '1998', '1999', '2000', '2001', '2002', '2003',\n",
       "       '2004', '2005', '2006', '2007', '2008', '2009', '2010', '2011',\n",
       "       '2012', '2013', '2014', '2015', '2016', '2017', '2018', '9712',\n",
       "       '9780', '9800', '9820', '9900', '9990', '9999'], dtype=object)"
      ]
     },
     "execution_count": 38,
     "metadata": {},
     "output_type": "execute_result"
    }
   ],
   "source": [
    "np.sort(df['건물승인일자'].unique())"
   ]
  },
  {
   "cell_type": "code",
   "execution_count": 39,
   "id": "fifty-hacker",
   "metadata": {},
   "outputs": [],
   "source": [
    "df[\"건물승인일자\"] = df[\"건물승인일자\"].astype(int).map(lambda x: x if x < 2020 else 0)"
   ]
  },
  {
   "cell_type": "code",
   "execution_count": 40,
   "id": "elementary-newman",
   "metadata": {
    "scrolled": false
   },
   "outputs": [
    {
     "data": {
      "text/plain": [
       "array([   0, 1988, 1965, 2002, 2000, 1983, 1972, 2006, 2010, 1996, 2009,\n",
       "       1940, 1995, 1979, 2004, 2011, 1970, 1955, 1975, 1935, 1946, 1997,\n",
       "       1999, 2007, 2008, 2012, 1993, 1978, 2005, 2003, 1945, 2015, 1981,\n",
       "       2013, 2016, 1971, 1926, 1930, 1910, 1998, 1992, 1973, 1952, 1976,\n",
       "       1994, 2001, 1990, 1915, 1927, 1950, 1984, 1960, 1904, 1919, 1922,\n",
       "       1991, 1934, 1967, 1987, 1963, 1941, 1925, 1982, 1949, 1880, 1929,\n",
       "       1958, 1986, 1957, 1974, 1924, 2018, 1977, 1969, 2014, 1968, 1985,\n",
       "       1943, 1931, 1948, 1951, 1923, 1894, 1912, 1800, 1956, 1920, 1932,\n",
       "       1918, 1980, 1944, 1911, 1933, 1871, 1937, 1882, 1962, 1903, 1966,\n",
       "       2017, 1954, 1900, 1989, 1942, 1939, 1936, 1905, 1916, 1896, 1893,\n",
       "       1890, 1901, 1961, 1914, 1964, 1908, 1938, 1870, 1959, 1866, 1875,\n",
       "       1928, 1947, 1865, 1821, 1861, 1867, 1907, 1887, 1874, 1840, 1820,\n",
       "       1921, 1819, 1850, 1891, 1877, 1895, 1953, 1646, 1878, 1909, 1876,\n",
       "       1883, 1884, 1892, 1862, 1902, 1913, 1906, 1917, 1898, 1860, 1843,\n",
       "       1873, 1740, 1751, 1855, 1872, 1852, 1885, 1863, 1811, 1899, 1790,\n",
       "       1889, 1801, 1742], dtype=int64)"
      ]
     },
     "execution_count": 40,
     "metadata": {},
     "output_type": "execute_result"
    }
   ],
   "source": [
    "df[\"건물승인일자\"].unique()"
   ]
  },
  {
   "cell_type": "code",
   "execution_count": 41,
   "id": "improved-electron",
   "metadata": {},
   "outputs": [],
   "source": [
    "df[\"건물승인일자_년대\"] = df[\"건물승인일자\"].astype(int).map(lambda x: \"2000s\" if x >= 2000 else \"1950s\" if x >= 1950 else \"1900s\" \n",
    "                                               if x >= 1900 else \"1850s\" if x >= 1850 else \"1800s\" if x >= 1800 else \"1750s\" \n",
    "                                               if x >= 1750 else \"1700s\" if x >= 1700 else \"1600s\" if x >= 1600 else \"NA\")"
   ]
  },
  {
   "cell_type": "code",
   "execution_count": 42,
   "id": "operating-oriental",
   "metadata": {
    "scrolled": true
   },
   "outputs": [
    {
     "data": {
      "text/plain": [
       "array(['NA', '1950s', '2000s', '1900s', '1850s', '1800s', '1600s',\n",
       "       '1700s', '1750s'], dtype=object)"
      ]
     },
     "execution_count": 42,
     "metadata": {},
     "output_type": "execute_result"
    }
   ],
   "source": [
    "df[\"건물승인일자_년대\"].unique()"
   ]
  },
  {
   "cell_type": "markdown",
   "id": "broken-electron",
   "metadata": {},
   "source": [
    "### 건물면적당가격"
   ]
  },
  {
   "cell_type": "code",
   "execution_count": 43,
   "id": "incorporate-police",
   "metadata": {
    "scrolled": false
   },
   "outputs": [
    {
     "data": {
      "text/plain": [
       "0         478038.0\n",
       "1              NaN\n",
       "2         671829.0\n",
       "3              NaN\n",
       "4         522466.0\n",
       "           ...    \n",
       "62147    1409566.0\n",
       "62148          NaN\n",
       "62149          NaN\n",
       "62150          NaN\n",
       "62151          NaN\n",
       "Name: 건물면적당가격, Length: 62152, dtype: float64"
      ]
     },
     "execution_count": 43,
     "metadata": {},
     "output_type": "execute_result"
    }
   ],
   "source": [
    "df['건물면적당가격']"
   ]
  },
  {
   "cell_type": "code",
   "execution_count": 44,
   "id": "specific-salvation",
   "metadata": {
    "scrolled": true
   },
   "outputs": [
    {
     "data": {
      "text/plain": [
       "<AxesSubplot:xlabel='건물면적당가격', ylabel='화재발생'>"
      ]
     },
     "execution_count": 44,
     "metadata": {},
     "output_type": "execute_result"
    },
    {
     "data": {
      "image/png": "[encoded data removed]",
      "text/plain": [
       "<Figure size 432x288 with 1 Axes>"
      ]
     },
     "metadata": {},
     "output_type": "display_data"
    }
   ],
   "source": [
    "sns.violinplot(x='건물면적당가격', y=\"화재발생\", data=df)"
   ]
  },
  {
   "cell_type": "code",
   "execution_count": 45,
   "id": "joint-wrestling",
   "metadata": {
    "scrolled": false
   },
   "outputs": [
    {
     "name": "stderr",
     "output_type": "stream",
     "text": [
      "C:\\Users\\zxwlg\\AppData\\Roaming\\Python\\Python37\\site-packages\\seaborn\\distributions.py:2557: FutureWarning: `distplot` is a deprecated function and will be removed in a future version. Please adapt your code to use either `displot` (a figure-level function with similar flexibility) or `histplot` (an axes-level function for histograms).\n",
      "  warnings.warn(msg, FutureWarning)\n"
     ]
    },
    {
     "data": {
      "text/plain": [
       "<AxesSubplot:xlabel='건물면적당가격', ylabel='Density'>"
      ]
     },
     "execution_count": 45,
     "metadata": {},
     "output_type": "execute_result"
    },
    {
     "name": "stderr",
     "output_type": "stream",
     "text": [
      "C:\\Users\\zxwlg\\AppData\\Roaming\\Python\\Python37\\site-packages\\matplotlib\\backends\\backend_agg.py:238: RuntimeWarning: Glyph 8722 missing from current font.\n",
      "  font.set_text(s, 0.0, flags=flags)\n",
      "C:\\Users\\zxwlg\\AppData\\Roaming\\Python\\Python37\\site-packages\\matplotlib\\backends\\backend_agg.py:201: RuntimeWarning: Glyph 8722 missing from current font.\n",
      "  font.set_text(s, 0, flags=flags)\n"
     ]
    },
    {
     "data": {
      "image/png": "[encoded data removed]",
      "text/plain": [
       "<Figure size 432x288 with 1 Axes>"
      ]
     },
     "metadata": {},
     "output_type": "display_data"
    }
   ],
   "source": [
    "sns.distplot(df[\"건물면적당가격\"], bins=50)"
   ]
  },
  {
   "cell_type": "code",
   "execution_count": 46,
   "id": "hairy-contractor",
   "metadata": {
    "scrolled": false
   },
   "outputs": [
    {
     "name": "stderr",
     "output_type": "stream",
     "text": [
      "C:\\Users\\zxwlg\\AppData\\Roaming\\Python\\Python37\\site-packages\\seaborn\\distributions.py:2557: FutureWarning: `distplot` is a deprecated function and will be removed in a future version. Please adapt your code to use either `displot` (a figure-level function with similar flexibility) or `histplot` (an axes-level function for histograms).\n",
      "  warnings.warn(msg, FutureWarning)\n"
     ]
    },
    {
     "data": {
      "text/plain": [
       "<AxesSubplot:xlabel='건물면적당가격', ylabel='Density'>"
      ]
     },
     "execution_count": 46,
     "metadata": {},
     "output_type": "execute_result"
    },
    {
     "data": {
      "image/png": "[encoded data removed]",
      "text/plain": [
       "<Figure size 432x288 with 1 Axes>"
      ]
     },
     "metadata": {},
     "output_type": "display_data"
    }
   ],
   "source": [
    "# log transform\n",
    "temp = np.log10(df[\"건물면적당가격\"]+0.5)\n",
    "sns.distplot(temp, bins=50)"
   ]
  },
  {
   "cell_type": "markdown",
   "id": "decreased-check",
   "metadata": {},
   "source": [
    "#### 행정구역명의 평균값으로 채워주기"
   ]
  },
  {
   "cell_type": "code",
   "execution_count": 47,
   "id": "usual-columbia",
   "metadata": {},
   "outputs": [],
   "source": [
    "df[\"건물면적당가격\"] = df.groupby(\"행정구역명\")[\"건물면적당가격\"].transform(lambda x: x.fillna(x.mean()))\n",
    "df[\"건물면적당가격\"] = df[\"건물면적당가격\"].transform(lambda x: x.fillna(x.mean()))"
   ]
  },
  {
   "cell_type": "code",
   "execution_count": 48,
   "id": "outdoor-worse",
   "metadata": {},
   "outputs": [
    {
     "name": "stderr",
     "output_type": "stream",
     "text": [
      "C:\\Users\\zxwlg\\AppData\\Roaming\\Python\\Python37\\site-packages\\seaborn\\distributions.py:2557: FutureWarning: `distplot` is a deprecated function and will be removed in a future version. Please adapt your code to use either `displot` (a figure-level function with similar flexibility) or `histplot` (an axes-level function for histograms).\n",
      "  warnings.warn(msg, FutureWarning)\n"
     ]
    },
    {
     "data": {
      "text/plain": [
       "<AxesSubplot:xlabel='건물면적당가격', ylabel='Density'>"
      ]
     },
     "execution_count": 48,
     "metadata": {},
     "output_type": "execute_result"
    },
    {
     "name": "stderr",
     "output_type": "stream",
     "text": [
      "C:\\Users\\zxwlg\\AppData\\Roaming\\Python\\Python37\\site-packages\\matplotlib\\backends\\backend_agg.py:238: RuntimeWarning: Glyph 8722 missing from current font.\n",
      "  font.set_text(s, 0.0, flags=flags)\n",
      "C:\\Users\\zxwlg\\AppData\\Roaming\\Python\\Python37\\site-packages\\matplotlib\\backends\\backend_agg.py:201: RuntimeWarning: Glyph 8722 missing from current font.\n",
      "  font.set_text(s, 0, flags=flags)\n"
     ]
    },
    {
     "data": {
      "image/png": "[encoded data removed]",
      "text/plain": [
       "<Figure size 432x288 with 1 Axes>"
      ]
     },
     "metadata": {},
     "output_type": "display_data"
    }
   ],
   "source": [
    "sns.distplot(df[\"건물면적당가격\"], bins=50)"
   ]
  },
  {
   "cell_type": "code",
   "execution_count": 49,
   "id": "forty-absolute",
   "metadata": {},
   "outputs": [
    {
     "name": "stderr",
     "output_type": "stream",
     "text": [
      "C:\\Users\\zxwlg\\AppData\\Roaming\\Python\\Python37\\site-packages\\seaborn\\distributions.py:2557: FutureWarning: `distplot` is a deprecated function and will be removed in a future version. Please adapt your code to use either `displot` (a figure-level function with similar flexibility) or `histplot` (an axes-level function for histograms).\n",
      "  warnings.warn(msg, FutureWarning)\n"
     ]
    },
    {
     "data": {
      "text/plain": [
       "<AxesSubplot:xlabel='건물면적당가격', ylabel='Density'>"
      ]
     },
     "execution_count": 49,
     "metadata": {},
     "output_type": "execute_result"
    },
    {
     "data": {
      "image/png": "[encoded data removed]",
      "text/plain": [
       "<Figure size 432x288 with 1 Axes>"
      ]
     },
     "metadata": {},
     "output_type": "display_data"
    }
   ],
   "source": [
    "# log transform\n",
    "temp = np.log10(df[\"건물면적당가격\"]+0.5)\n",
    "sns.distplot(temp, bins=50)"
   ]
  },
  {
   "cell_type": "markdown",
   "id": "accompanied-aside",
   "metadata": {},
   "source": [
    "### 건물들지하층수합"
   ]
  },
  {
   "cell_type": "code",
   "execution_count": 50,
   "id": "second-brunei",
   "metadata": {
    "scrolled": true
   },
   "outputs": [
    {
     "data": {
      "text/plain": [
       "array([ 0., nan,  6.,  1.,  3.,  9.,  4.,  5.,  2., 15., 10., 30.,  7.,\n",
       "       18., 11., 14., 13., 17.,  8., 23., 33., 21., 16., 12., 42., 60.,\n",
       "       48., 46., 31., 36., 20.])"
      ]
     },
     "execution_count": 50,
     "metadata": {},
     "output_type": "execute_result"
    }
   ],
   "source": [
    "df['건물들지하층수합'].unique()"
   ]
  },
  {
   "cell_type": "code",
   "execution_count": 51,
   "id": "limited-arctic",
   "metadata": {
    "scrolled": true
   },
   "outputs": [
    {
     "data": {
      "text/plain": [
       "<AxesSubplot:xlabel='건물들지하층수합', ylabel='화재발생'>"
      ]
     },
     "execution_count": 51,
     "metadata": {},
     "output_type": "execute_result"
    },
    {
     "data": {
      "image/png": "[encoded data removed]",
      "text/plain": [
       "<Figure size 432x288 with 1 Axes>"
      ]
     },
     "metadata": {},
     "output_type": "display_data"
    }
   ],
   "source": [
    "sns.violinplot(x='건물들지하층수합', y=\"화재발생\", data=df)"
   ]
  },
  {
   "cell_type": "code",
   "execution_count": 52,
   "id": "italian-vancouver",
   "metadata": {
    "scrolled": true
   },
   "outputs": [
    {
     "name": "stderr",
     "output_type": "stream",
     "text": [
      "C:\\Users\\zxwlg\\AppData\\Roaming\\Python\\Python37\\site-packages\\seaborn\\distributions.py:2557: FutureWarning: `distplot` is a deprecated function and will be removed in a future version. Please adapt your code to use either `displot` (a figure-level function with similar flexibility) or `histplot` (an axes-level function for histograms).\n",
      "  warnings.warn(msg, FutureWarning)\n"
     ]
    },
    {
     "data": {
      "text/plain": [
       "<AxesSubplot:xlabel='건물들지하층수합', ylabel='Density'>"
      ]
     },
     "execution_count": 52,
     "metadata": {},
     "output_type": "execute_result"
    },
    {
     "data": {
      "image/png": "[encoded data removed]",
      "text/plain": [
       "<Figure size 432x288 with 1 Axes>"
      ]
     },
     "metadata": {},
     "output_type": "display_data"
    }
   ],
   "source": [
    "sns.distplot(df[\"건물들지하층수합\"], bins=50)"
   ]
  },
  {
   "cell_type": "code",
   "execution_count": 53,
   "id": "minute-geography",
   "metadata": {},
   "outputs": [
    {
     "data": {
      "text/plain": [
       "0.8152754537263484"
      ]
     },
     "execution_count": 53,
     "metadata": {},
     "output_type": "execute_result"
    }
   ],
   "source": [
    "len(df[df[\"건물들지하층수합\"] < 10])/len(df)"
   ]
  },
  {
   "cell_type": "code",
   "execution_count": 54,
   "id": "solved-patrick",
   "metadata": {},
   "outputs": [],
   "source": [
    "df['지하범주'] = ['깊지않은' if x < 10 else \"깊은\" if x >= 10 else \"NA\" for x in df['건물들지하층수합']]"
   ]
  },
  {
   "cell_type": "markdown",
   "id": "corporate-glasgow",
   "metadata": {},
   "source": [
    "### 건물들지상층수합"
   ]
  },
  {
   "cell_type": "code",
   "execution_count": 55,
   "id": "danish-rebecca",
   "metadata": {},
   "outputs": [
    {
     "data": {
      "text/plain": [
       "array([  1.,   5.,   2.,  nan, 200.,  15.,   3.,   4.,   6.,  10.,   7.,\n",
       "         9., 131.,  95.,   8.,  16.,  62.,  91.,  17.,   0.,  33.,  13.,\n",
       "        18.,  14.,  47.,  54.,  11.,  19.,  27.,  45.,  21.,  20.,  82.,\n",
       "       184.,  93.,  22.,  80.,  32., 256., 351.,  48., 189., 312., 100.,\n",
       "        55., 124., 182., 172., 138., 151.,  30., 533., 197., 229., 144.,\n",
       "       196., 132.,  96.,  63.,  64., 270.,  78., 193.,  89., 395., 216.,\n",
       "       178.,  68., 164., 139.,  24., 149.,  43.,  65.,  52., 191., 221.,\n",
       "       224., 186., 163., 413.,  44., 386., 201.,  94., 143.,  69.,  26.,\n",
       "        66.,  36.,  25.,  23.,  12.,  41.,  86.,  97., 103., 444., 127.,\n",
       "       241., 171.,  35.,  28.,  29., 129.,  40.,  59., 126.,  39.,  75.,\n",
       "       285.,  90., 102.,  88.,  60.,  72.,  51., 105.,  71.,  84., 152.,\n",
       "        77., 253., 180., 118.,  31.,  81., 343.,  76.,  37., 123., 369.,\n",
       "        46., 165., 183.,  92., 223., 244., 167.,  85., 133., 331., 128.,\n",
       "        73.,  50., 301., 122., 125., 109.,  34., 194., 274., 141., 213.,\n",
       "       175., 288., 514., 160., 440., 142., 594., 218., 159.,  42., 587.,\n",
       "       543., 148., 237., 198., 328., 333., 209.,  70., 158.,  38., 337.,\n",
       "       306., 293., 177.,  99., 208.,  49.,  87., 303., 112., 176., 281.,\n",
       "       242., 181.,  61., 311.,  57., 106., 156., 210., 233., 245., 199.,\n",
       "       195.,  83., 121., 272., 119., 334., 462.,  53., 383., 137., 153.,\n",
       "       173., 205., 298., 300., 155., 162.])"
      ]
     },
     "execution_count": 55,
     "metadata": {},
     "output_type": "execute_result"
    }
   ],
   "source": [
    "df['건물들지상층수합'].unique()"
   ]
  },
  {
   "cell_type": "code",
   "execution_count": 56,
   "id": "simplified-vacation",
   "metadata": {
    "scrolled": true
   },
   "outputs": [
    {
     "data": {
      "text/plain": [
       "<AxesSubplot:xlabel='건물들지상층수합', ylabel='화재발생'>"
      ]
     },
     "execution_count": 56,
     "metadata": {},
     "output_type": "execute_result"
    },
    {
     "data": {
      "image/png": "[encoded data removed]",
      "text/plain": [
       "<Figure size 432x288 with 1 Axes>"
      ]
     },
     "metadata": {},
     "output_type": "display_data"
    }
   ],
   "source": [
    "sns.violinplot(x='건물들지상층수합', y=\"화재발생\", data=df)"
   ]
  },
  {
   "cell_type": "code",
   "execution_count": 57,
   "id": "amber-yellow",
   "metadata": {},
   "outputs": [
    {
     "name": "stderr",
     "output_type": "stream",
     "text": [
      "C:\\Users\\zxwlg\\AppData\\Roaming\\Python\\Python37\\site-packages\\seaborn\\distributions.py:2557: FutureWarning: `distplot` is a deprecated function and will be removed in a future version. Please adapt your code to use either `displot` (a figure-level function with similar flexibility) or `histplot` (an axes-level function for histograms).\n",
      "  warnings.warn(msg, FutureWarning)\n"
     ]
    },
    {
     "data": {
      "text/plain": [
       "<AxesSubplot:xlabel='건물들지상층수합', ylabel='Density'>"
      ]
     },
     "execution_count": 57,
     "metadata": {},
     "output_type": "execute_result"
    },
    {
     "data": {
      "image/png": "[encoded data removed]",
      "text/plain": [
       "<Figure size 432x288 with 1 Axes>"
      ]
     },
     "metadata": {},
     "output_type": "display_data"
    }
   ],
   "source": [
    "sns.distplot(df[\"건물들지상층수합\"], bins=50)"
   ]
  },
  {
   "cell_type": "code",
   "execution_count": 58,
   "id": "elect-rwanda",
   "metadata": {},
   "outputs": [
    {
     "data": {
      "text/plain": [
       "0.8168844124082894"
      ]
     },
     "execution_count": 58,
     "metadata": {},
     "output_type": "execute_result"
    }
   ],
   "source": [
    "len(df[df[\"건물들지상층수합\"] < 15])/len(df)"
   ]
  },
  {
   "cell_type": "code",
   "execution_count": 59,
   "id": "simple-egyptian",
   "metadata": {},
   "outputs": [],
   "source": [
    "df['지상범주'] = ['초고층' if x >= 100 else \"고층\" if x >= 15 else \"저층\" if x < 15 else \"NA\" for x in df['건물들지상층수합']]"
   ]
  },
  {
   "cell_type": "code",
   "execution_count": 60,
   "id": "floppy-spray",
   "metadata": {},
   "outputs": [],
   "source": [
    "df = df.drop(['건물들지하층수합','건물들지상층수합'], axis=1)"
   ]
  },
  {
   "cell_type": "code",
   "execution_count": 61,
   "id": "quiet-bearing",
   "metadata": {
    "scrolled": true
   },
   "outputs": [
    {
     "data": {
      "text/html": [
       "<div>\n",
       "<style scoped>\n",
       "    .dataframe tbody tr th:only-of-type {\n",
       "        vertical-align: middle;\n",
       "    }\n",
       "\n",
       "    .dataframe tbody tr th {\n",
       "        vertical-align: top;\n",
       "    }\n",
       "\n",
       "    .dataframe thead th {\n",
       "        text-align: right;\n",
       "    }\n",
       "</style>\n",
       "<table border=\"1\" class=\"dataframe\">\n",
       "  <thead>\n",
       "    <tr style=\"text-align: right;\">\n",
       "      <th></th>\n",
       "      <th>Total</th>\n",
       "      <th>Percent</th>\n",
       "    </tr>\n",
       "  </thead>\n",
       "  <tbody>\n",
       "    <tr>\n",
       "      <th>토지이용상황명</th>\n",
       "      <td>1772</td>\n",
       "      <td>0.029935</td>\n",
       "    </tr>\n",
       "    <tr>\n",
       "      <th>용도지역지구명</th>\n",
       "      <td>1487</td>\n",
       "      <td>0.025120</td>\n",
       "    </tr>\n",
       "    <tr>\n",
       "      <th>도로측면명</th>\n",
       "      <td>1487</td>\n",
       "      <td>0.025120</td>\n",
       "    </tr>\n",
       "    <tr>\n",
       "      <th>용도지역지구명2</th>\n",
       "      <td>1487</td>\n",
       "      <td>0.025120</td>\n",
       "    </tr>\n",
       "    <tr>\n",
       "      <th>행정구역인구</th>\n",
       "      <td>697</td>\n",
       "      <td>0.011775</td>\n",
       "    </tr>\n",
       "    <tr>\n",
       "      <th>풍향</th>\n",
       "      <td>221</td>\n",
       "      <td>0.003733</td>\n",
       "    </tr>\n",
       "    <tr>\n",
       "      <th>관할소방서인원</th>\n",
       "      <td>41</td>\n",
       "      <td>0.000693</td>\n",
       "    </tr>\n",
       "    <tr>\n",
       "      <th>풍속</th>\n",
       "      <td>33</td>\n",
       "      <td>0.000557</td>\n",
       "    </tr>\n",
       "    <tr>\n",
       "      <th>습도</th>\n",
       "      <td>22</td>\n",
       "      <td>0.000372</td>\n",
       "    </tr>\n",
       "    <tr>\n",
       "      <th>온도</th>\n",
       "      <td>13</td>\n",
       "      <td>0.000220</td>\n",
       "    </tr>\n",
       "    <tr>\n",
       "      <th>안전비상벨최소거리</th>\n",
       "      <td>0</td>\n",
       "      <td>0.000000</td>\n",
       "    </tr>\n",
       "  </tbody>\n",
       "</table>\n",
       "</div>"
      ],
      "text/plain": [
       "           Total   Percent\n",
       "토지이용상황명     1772  0.029935\n",
       "용도지역지구명     1487  0.025120\n",
       "도로측면명       1487  0.025120\n",
       "용도지역지구명2    1487  0.025120\n",
       "행정구역인구       697  0.011775\n",
       "풍향           221  0.003733\n",
       "관할소방서인원       41  0.000693\n",
       "풍속            33  0.000557\n",
       "습도            22  0.000372\n",
       "온도            13  0.000220\n",
       "안전비상벨최소거리      0  0.000000"
      ]
     },
     "execution_count": 61,
     "metadata": {},
     "output_type": "execute_result"
    }
   ],
   "source": [
    "total = df[:number_of_train_data].isnull().sum().sort_values(ascending=False)\n",
    "percent = (df[:number_of_train_data].isnull().sum()/df[:number_of_train_data].isnull().count()).sort_values(ascending=False)\n",
    "missing_data = pd.concat([total, percent], axis=1, keys=['Total', 'Percent'])\n",
    "missing_data.head(11)"
   ]
  },
  {
   "cell_type": "markdown",
   "id": "corrected-equivalent",
   "metadata": {},
   "source": [
    "### 토지이용상황명, 도로측면명, 용도지역지구명"
   ]
  },
  {
   "cell_type": "code",
   "execution_count": 62,
   "id": "through-basics",
   "metadata": {
    "scrolled": true
   },
   "outputs": [
    {
     "data": {
      "text/plain": [
       "array(['단독', '업무용', '상업용', '아파트', '주상용', '주거기타', '주거나지', '주상기타', '운동장등',\n",
       "       '도로등', '전기타', '다세대', '공업용', '연립', '상업기타', '답', '과수원', '전', nan,\n",
       "       '답기타', '공업기타', '자연림', '상업나지', '하천등', '공업나지', '토지임야', '주차장등',\n",
       "       '임야기타', '공원등', '주상나지', '조림', '여객자동차터미널', '유해.혐오시설', '골프장 대중제',\n",
       "       '기타', '골프장 회원제', '목장용지', '스키장', '공원묘지', '유원지', '고속도로휴게소', '위험시설',\n",
       "       '특수기타', '발전소', '콘도미니엄'], dtype=object)"
      ]
     },
     "execution_count": 62,
     "metadata": {},
     "output_type": "execute_result"
    }
   ],
   "source": [
    "df['토지이용상황명'].unique()"
   ]
  },
  {
   "cell_type": "code",
   "execution_count": 63,
   "id": "sexual-ballot",
   "metadata": {},
   "outputs": [
    {
     "data": {
      "text/plain": [
       "array(['세로한면(불)', '중로한면', '소로한면', '세로한면(가)', '소로각지', '맹지', '세로각지(가)',\n",
       "       '세로각지(불)', '중로각지', nan, '광대로한면', '광대소각', '지정되지않음', '광대세각'],\n",
       "      dtype=object)"
      ]
     },
     "execution_count": 63,
     "metadata": {},
     "output_type": "execute_result"
    }
   ],
   "source": [
    "df['도로측면명'].unique()"
   ]
  },
  {
   "cell_type": "code",
   "execution_count": 64,
   "id": "transsexual-pharmacy",
   "metadata": {},
   "outputs": [
    {
     "data": {
      "text/plain": [
       "array(['자연녹지지역', '제2종일반주거지역', '생산녹지지역', '계획관리지역', '제1종일반주거지역', '보전녹지지역',\n",
       "       '자연환경보전지역', '생산관리지역', '농림지역', '보전관리지역', '준공업지역', '일반공업지역',\n",
       "       '일반상업지역', nan, '중심상업지역', '제3종일반주거지역', '준주거지역', '개발제한구역',\n",
       "       '제1종전용주거지역', '관리지역', '근린상업지역', '제2종전용주거지역', '용도미지정', '유통상업지역'],\n",
       "      dtype=object)"
      ]
     },
     "execution_count": 64,
     "metadata": {},
     "output_type": "execute_result"
    }
   ],
   "source": [
    "df['용도지역지구명'].unique()"
   ]
  },
  {
   "cell_type": "code",
   "execution_count": 65,
   "id": "passing-guidance",
   "metadata": {
    "scrolled": true
   },
   "outputs": [
    {
     "data": {
      "text/plain": [
       "array(['지정되지않음', '생산녹지지역', '자연녹지지역', '제2종일반주거지역', '보전녹지지역', '계획관리지역',\n",
       "       '자연환경보전지역', nan, '준주거지역', '일반상업지역', '생산관리지역', '보전관리지역',\n",
       "       '제1종일반주거지역', '농림지역', '제3종일반주거지역', '일반공업지역', '관리지역', '준공업지역',\n",
       "       '근린상업지역', '개발제한구역'], dtype=object)"
      ]
     },
     "execution_count": 65,
     "metadata": {},
     "output_type": "execute_result"
    }
   ],
   "source": [
    "df['용도지역지구명2'].unique()"
   ]
  },
  {
   "cell_type": "code",
   "execution_count": 66,
   "id": "upper-plymouth",
   "metadata": {},
   "outputs": [],
   "source": [
    "df = df.drop('용도지역지구명2', axis=1)"
   ]
  },
  {
   "cell_type": "code",
   "execution_count": 67,
   "id": "greatest-pledge",
   "metadata": {},
   "outputs": [],
   "source": [
    "df['토지이용상황명'] = df.groupby(['지적상지목'])['토지이용상황명'].transform(lambda x: x.fillna(Counter(x).most_common(1)[0][0]))\n",
    "df['도로측면명'] = df.groupby(['지적상지목'])['도로측면명'].transform(lambda x: x.fillna(Counter(x).most_common(1)[0][0]))\n",
    "df['용도지역지구명'] = df.groupby(['지적상지목'])['용도지역지구명'].transform(lambda x: x.fillna(Counter(x).most_common(1)[0][0]))\n",
    "df['토지이용상황명'] = df['토지이용상황명'].transform(lambda x: x.fillna(Counter(x).most_common(1)[0][0]))\n",
    "df['도로측면명'] = df['도로측면명'].transform(lambda x: x.fillna(Counter(x).most_common(1)[0][0]))\n",
    "df['용도지역지구명'] = df['용도지역지구명'].transform(lambda x: x.fillna(Counter(x).most_common(1)[0][0]))"
   ]
  },
  {
   "cell_type": "markdown",
   "id": "indie-gilbert",
   "metadata": {},
   "source": [
    "### 행정구역인구"
   ]
  },
  {
   "cell_type": "code",
   "execution_count": 79,
   "id": "civilian-orlando",
   "metadata": {},
   "outputs": [
    {
     "data": {
      "text/plain": [
       "0"
      ]
     },
     "execution_count": 79,
     "metadata": {},
     "output_type": "execute_result"
    }
   ],
   "source": [
    "df['행정구역인구'] = df.groupby([\"행정구역명\",\"년도\"])['행정구역인구'].transform(lambda x: x.fillna(x.mean()))\n",
    "df['행정구역인구'] = df.groupby([\"행정구역명\"])['행정구역인구'].transform(lambda x: x.fillna(x.mean()))\n",
    "df['행정구역인구'] = df.groupby([\"시군구\",\"년도\"])['행정구역인구'].transform(lambda x: x.fillna(x.mean()))\n",
    "df['행정구역인구'] = df.groupby([\"시군구\"])['행정구역인구'].transform(lambda x: x.fillna(x.mean()))\n",
    "\n",
    "df['행정구역인구'].isnull().sum()"
   ]
  },
  {
   "cell_type": "markdown",
   "id": "heard-valuation",
   "metadata": {},
   "source": [
    "### 풍향, 풍속, 습도, 온도"
   ]
  },
  {
   "cell_type": "code",
   "execution_count": 70,
   "id": "graduate-blackberry",
   "metadata": {
    "scrolled": true
   },
   "outputs": [
    {
     "data": {
      "text/plain": [
       "array([  0.,   2.,  11.,  20.,  23.,  29.,  34.,  36.,  50.,  70.,  90.,\n",
       "       110., 140., 160., 180., 200., 230., 250., 270., 290., 320., 340.,\n",
       "       360.,  nan])"
      ]
     },
     "execution_count": 70,
     "metadata": {},
     "output_type": "execute_result"
    }
   ],
   "source": [
    "np.sort(df[\"풍향\"].unique())"
   ]
  },
  {
   "cell_type": "code",
   "execution_count": 71,
   "id": "tribal-rating",
   "metadata": {},
   "outputs": [],
   "source": [
    "df['풍향'] = ['북' if x >= 315 or x < 45 else \"동\" if x < 135 else \"남\" if x < 225\n",
    "            else \"서\" if x < 315 else np.nan for x in df['풍향']]\n",
    "\n",
    "df['풍향'] = df.groupby([\"행정구역명\",\"날짜\"])['풍향'].transform(lambda x: x.fillna(Counter(x).most_common(1)[0][0]))\n",
    "df['풍향'] = df.groupby([\"시군구\",\"날짜\"])['풍향'].transform(lambda x: x.fillna(Counter(x).most_common(1)[0][0]))\n",
    "df['풍향'] = df.groupby([\"행정구역명\",\"년도\",\"월\"])['풍향'].transform(lambda x: x.fillna(Counter(x).most_common(1)[0][0]))\n",
    "df['풍향'] = df.groupby([\"시군구\",\"년도\",\"월\"])['풍향'].transform(lambda x: x.fillna(Counter(x).most_common(1)[0][0]))\n",
    "\n",
    "df['풍향'].isnull().sum()"
   ]
  },
  {
   "cell_type": "code",
   "execution_count": 77,
   "id": "scheduled-underwear",
   "metadata": {},
   "outputs": [
    {
     "data": {
      "text/plain": [
       "array([ 0. ,  0.1,  0.2,  0.3,  0.4,  0.5,  0.6,  0.7,  0.8,  0.9,  1. ,\n",
       "        1.1,  1.2,  1.3,  1.4,  1.5,  1.6,  1.7,  1.8,  1.9,  2. ,  2.1,\n",
       "        2.2,  2.3,  2.4,  2.5,  2.6,  2.7,  2.8,  2.9,  3. ,  3.1,  3.2,\n",
       "        3.3,  3.4,  3.5,  3.6,  3.7,  3.8,  3.9,  4. ,  4.1,  4.2,  4.3,\n",
       "        4.4,  4.5,  4.6,  4.7,  4.8,  4.9,  5. ,  5.1,  5.2,  5.3,  5.4,\n",
       "        5.5,  5.6,  5.7,  5.8,  5.9,  6. ,  6.1,  6.2,  6.3,  6.4,  6.5,\n",
       "        6.6,  6.7,  6.8,  6.9,  7. ,  7.1,  7.2,  7.3,  7.4,  7.5,  7.6,\n",
       "        7.7,  7.8,  7.9,  8. ,  8.1,  8.2,  8.3,  8.4,  8.5,  8.6,  8.7,\n",
       "        8.8,  8.9,  9. ,  9.2,  9.3,  9.4,  9.6,  9.7, 10. , 10.1, 10.5,\n",
       "       10.6, 10.8, 11. , 11.1, 11.2, 11.4, 11.8, 12. , 12.1, 13.9, 15.3,\n",
       "        nan])"
      ]
     },
     "execution_count": 77,
     "metadata": {},
     "output_type": "execute_result"
    }
   ],
   "source": [
    "np.sort(df[\"풍속\"].unique())"
   ]
  },
  {
   "cell_type": "code",
   "execution_count": 78,
   "id": "unnecessary-leeds",
   "metadata": {},
   "outputs": [
    {
     "data": {
      "text/plain": [
       "0"
      ]
     },
     "execution_count": 78,
     "metadata": {},
     "output_type": "execute_result"
    }
   ],
   "source": [
    "df['풍속'] = df.groupby([\"행정구역명\",\"날짜\"])['풍속'].transform(lambda x: x.fillna(x.mean()))\n",
    "df['풍속'] = df.groupby([\"시군구\",\"날짜\"])['풍속'].transform(lambda x: x.fillna(x.mean()))\n",
    "df['풍속'] = df.groupby([\"행정구역명\",\"년도\",\"월\"])['풍속'].transform(lambda x: x.fillna(x.mean()))\n",
    "\n",
    "df['풍속'].isnull().sum()"
   ]
  },
  {
   "cell_type": "code",
   "execution_count": 80,
   "id": "dietary-switzerland",
   "metadata": {},
   "outputs": [
    {
     "data": {
      "text/plain": [
       "array([  0. ,   4. ,   5. ,   6. ,   7. ,   8. ,   9. ,  10. ,  11. ,\n",
       "        12. ,  13. ,  14. ,  15. ,  16. ,  17. ,  18. ,  19. ,  20. ,\n",
       "        21. ,  22. ,  23. ,  24. ,  25. ,  26. ,  27. ,  28. ,  28.9,\n",
       "        29. ,  30. ,  31. ,  32. ,  33. ,  34. ,  35. ,  35.6,  36. ,\n",
       "        37. ,  38. ,  39. ,  40. ,  40.7,  41. ,  42. ,  43. ,  44. ,\n",
       "        45. ,  46. ,  47. ,  48. ,  49. ,  50. ,  51. ,  52. ,  53. ,\n",
       "        54. ,  55. ,  56. ,  57. ,  58. ,  59. ,  60. ,  61. ,  62. ,\n",
       "        63. ,  64. ,  65. ,  66. ,  67. ,  68. ,  69. ,  69.9,  70. ,\n",
       "        71. ,  72. ,  73. ,  73.4,  74. ,  75. ,  76. ,  77. ,  78. ,\n",
       "        79. ,  80. ,  81. ,  82. ,  83. ,  83.5,  84. ,  85. ,  86. ,\n",
       "        87. ,  88. ,  89. ,  90. ,  91. ,  92. ,  93. ,  94. ,  95. ,\n",
       "        96. ,  97. ,  98. ,  99. , 100. ,   nan])"
      ]
     },
     "execution_count": 80,
     "metadata": {},
     "output_type": "execute_result"
    }
   ],
   "source": [
    "np.sort(df[\"습도\"].unique())"
   ]
  },
  {
   "cell_type": "code",
   "execution_count": 81,
   "id": "detected-claim",
   "metadata": {},
   "outputs": [
    {
     "data": {
      "text/plain": [
       "0"
      ]
     },
     "execution_count": 81,
     "metadata": {},
     "output_type": "execute_result"
    }
   ],
   "source": [
    "df['습도'] = df.groupby([\"행정구역명\",\"날짜\"])['습도'].transform(lambda x: x.fillna(x.mean()))\n",
    "df['습도'] = df.groupby([\"시군구\",\"날짜\"])['습도'].transform(lambda x: x.fillna(x.mean()))\n",
    "df['습도'] = df.groupby([\"행정구역명\",\"년도\",\"월\"])['습도'].transform(lambda x: x.fillna(x.mean()))\n",
    "df['습도'] = df.groupby([\"시군구\",\"년도\",\"월\"])['습도'].transform(lambda x: x.fillna(x.mean()))\n",
    "\n",
    "df['습도'].isnull().sum()"
   ]
  },
  {
   "cell_type": "code",
   "execution_count": 82,
   "id": "outside-shape",
   "metadata": {
    "scrolled": true
   },
   "outputs": [
    {
     "data": {
      "text/plain": [
       "array([-14.1, -13.2, -13.1, -12.7, -12.5, -12.2, -12.1, -12. , -11.9,\n",
       "       -11.8, -11.7, -11.6, -11.5, -11.4, -11.3, -11.2, -11.1, -11. ,\n",
       "       -10.9, -10.8, -10.7, -10.6, -10.5, -10.4, -10.3, -10.2, -10.1,\n",
       "       -10. ,  -9.9,  -9.8,  -9.7,  -9.6,  -9.5,  -9.4,  -9.3,  -9.2,\n",
       "        -9.1,  -9. ,  -8.9,  -8.8,  -8.7,  -8.6,  -8.5,  -8.4,  -8.3,\n",
       "        -8.2,  -8.1,  -8. ,  -7.9,  -7.8,  -7.7,  -7.6,  -7.5,  -7.4,\n",
       "        -7.3,  -7.2,  -7.1,  -7. ,  -6.9,  -6.8,  -6.7,  -6.6,  -6.5,\n",
       "        -6.4,  -6.3,  -6.2,  -6.1,  -6. ,  -5.9,  -5.8,  -5.7,  -5.6,\n",
       "        -5.5,  -5.4,  -5.3,  -5.2,  -5.1,  -5. ,  -4.9,  -4.8,  -4.7,\n",
       "        -4.6,  -4.5,  -4.4,  -4.3,  -4.2,  -4.1,  -4. ,  -3.9,  -3.8,\n",
       "        -3.7,  -3.6,  -3.5,  -3.4,  -3.3,  -3.2,  -3.1,  -3. ,  -2.9,\n",
       "        -2.8,  -2.7,  -2.6,  -2.5,  -2.4,  -2.3,  -2.2,  -2.1,  -2. ,\n",
       "        -1.9,  -1.8,  -1.7,  -1.6,  -1.5,  -1.4,  -1.3,  -1.2,  -1.1,\n",
       "        -1. ,  -0.9,  -0.8,  -0.7,  -0.6,  -0.5,  -0.4,  -0.3,  -0.2,\n",
       "        -0.1,   0. ,   0.1,   0.2,   0.3,   0.4,   0.5,   0.6,   0.7,\n",
       "         0.8,   0.9,   1. ,   1.1,   1.2,   1.3,   1.4,   1.5,   1.6,\n",
       "         1.7,   1.8,   1.9,   2. ,   2.1,   2.2,   2.3,   2.4,   2.5,\n",
       "         2.6,   2.7,   2.8,   2.9,   3. ,   3.1,   3.2,   3.3,   3.4,\n",
       "         3.5,   3.6,   3.7,   3.8,   3.9,   4. ,   4.1,   4.2,   4.3,\n",
       "         4.4,   4.5,   4.6,   4.7,   4.8,   4.9,   5. ,   5.1,   5.2,\n",
       "         5.3,   5.4,   5.5,   5.6,   5.7,   5.8,   5.9,   6. ,   6.1,\n",
       "         6.2,   6.3,   6.4,   6.5,   6.6,   6.7,   6.8,   6.9,   7. ,\n",
       "         7.1,   7.2,   7.3,   7.4,   7.5,   7.6,   7.7,   7.8,   7.9,\n",
       "         8. ,   8.1,   8.2,   8.3,   8.4,   8.5,   8.6,   8.7,   8.8,\n",
       "         8.9,   9. ,   9.1,   9.2,   9.3,   9.4,   9.5,   9.6,   9.7,\n",
       "         9.8,   9.9,  10. ,  10.1,  10.2,  10.3,  10.4,  10.5,  10.6,\n",
       "        10.7,  10.8,  10.9,  11. ,  11.1,  11.2,  11.3,  11.4,  11.5,\n",
       "        11.6,  11.7,  11.8,  11.9,  12. ,  12.1,  12.2,  12.3,  12.4,\n",
       "        12.5,  12.6,  12.7,  12.8,  12.9,  13. ,  13.1,  13.2,  13.3,\n",
       "        13.4,  13.5,  13.6,  13.7,  13.8,  13.9,  14. ,  14.1,  14.2,\n",
       "        14.3,  14.4,  14.5,  14.6,  14.7,  14.8,  14.9,  15. ,  15.1,\n",
       "        15.2,  15.3,  15.4,  15.5,  15.6,  15.7,  15.8,  15.9,  16. ,\n",
       "        16.1,  16.2,  16.3,  16.4,  16.5,  16.6,  16.7,  16.8,  16.9,\n",
       "        17. ,  17.1,  17.2,  17.3,  17.4,  17.5,  17.6,  17.7,  17.8,\n",
       "        17.9,  18. ,  18.1,  18.2,  18.3,  18.4,  18.5,  18.6,  18.7,\n",
       "        18.8,  18.9,  19. ,  19.1,  19.2,  19.3,  19.4,  19.5,  19.6,\n",
       "        19.7,  19.8,  19.9,  20. ,  20.1,  20.2,  20.3,  20.4,  20.5,\n",
       "        20.6,  20.7,  20.8,  20.9,  21. ,  21.1,  21.2,  21.3,  21.4,\n",
       "        21.5,  21.6,  21.7,  21.8,  21.9,  22. ,  22.1,  22.2,  22.3,\n",
       "        22.4,  22.5,  22.6,  22.7,  22.8,  22.9,  23. ,  23.1,  23.2,\n",
       "        23.3,  23.4,  23.5,  23.6,  23.7,  23.8,  23.9,  24. ,  24.1,\n",
       "        24.2,  24.3,  24.4,  24.5,  24.6,  24.7,  24.8,  24.9,  25. ,\n",
       "        25.1,  25.2,  25.3,  25.4,  25.5,  25.6,  25.7,  25.8,  25.9,\n",
       "        26. ,  26.1,  26.2,  26.3,  26.4,  26.5,  26.6,  26.7,  26.8,\n",
       "        26.9,  27. ,  27.1,  27.2,  27.3,  27.4,  27.5,  27.6,  27.7,\n",
       "        27.8,  27.9,  28. ,  28.1,  28.2,  28.3,  28.4,  28.5,  28.6,\n",
       "        28.7,  28.8,  28.9,  29. ,  29.1,  29.2,  29.3,  29.4,  29.5,\n",
       "        29.6,  29.7,  29.8,  29.9,  30. ,  30.1,  30.2,  30.3,  30.4,\n",
       "        30.5,  30.6,  30.7,  30.8,  30.9,  31. ,  31.1,  31.2,  31.3,\n",
       "        31.4,  31.5,  31.6,  31.7,  31.8,  31.9,  32. ,  32.1,  32.2,\n",
       "        32.3,  32.4,  32.5,  32.6,  32.7,  32.8,  32.9,  33. ,  33.1,\n",
       "        33.2,  33.3,  33.4,  33.5,  33.6,  33.7,  33.8,  33.9,  34. ,\n",
       "        34.1,  34.2,  34.3,  34.4,  34.5,  34.6,  34.7,  34.8,  34.9,\n",
       "        35. ,  35.1,  35.2,  35.3,  35.4,  35.5,  35.6,  35.7,  35.8,\n",
       "        35.9,  36. ,  36.1,  36.2,  36.3,  36.4,  36.5,  36.6,  36.7,\n",
       "        36.9,  37.1,  37.2,  37.3,  37.4,  37.6,  37.7,  37.8,  37.9,\n",
       "        38.1,   nan])"
      ]
     },
     "execution_count": 82,
     "metadata": {},
     "output_type": "execute_result"
    }
   ],
   "source": [
    "np.sort(df[\"온도\"].unique())"
   ]
  },
  {
   "cell_type": "code",
   "execution_count": 83,
   "id": "chinese-desire",
   "metadata": {},
   "outputs": [
    {
     "data": {
      "text/plain": [
       "0"
      ]
     },
     "execution_count": 83,
     "metadata": {},
     "output_type": "execute_result"
    }
   ],
   "source": [
    "df['온도'] = df.groupby([\"행정구역명\",\"날짜\"])['온도'].transform(lambda x: x.fillna(x.mean()))\n",
    "df['온도'] = df.groupby([\"시군구\",\"날짜\"])['온도'].transform(lambda x: x.fillna(x.mean()))\n",
    "df['온도'] = df.groupby([\"행정구역명\",\"년도\",\"월\"])['온도'].transform(lambda x: x.fillna(x.mean()))\n",
    "\n",
    "df['온도'].isnull().sum()"
   ]
  },
  {
   "cell_type": "markdown",
   "id": "arabic-exclusive",
   "metadata": {},
   "source": [
    "### 관할소방서인원"
   ]
  },
  {
   "cell_type": "code",
   "execution_count": 84,
   "id": "greater-singles",
   "metadata": {},
   "outputs": [
    {
     "data": {
      "text/plain": [
       "array([ 85., 106., 108., 109., 111., 112., 118., 121., 137., 139., 161.,\n",
       "       164., 174., 176., 178., 194., 201., 205., 210.,  nan])"
      ]
     },
     "execution_count": 84,
     "metadata": {},
     "output_type": "execute_result"
    }
   ],
   "source": [
    "np.sort(df[\"관할소방서인원\"].unique())"
   ]
  },
  {
   "cell_type": "code",
   "execution_count": 85,
   "id": "serial-journal",
   "metadata": {},
   "outputs": [
    {
     "data": {
      "text/plain": [
       "0"
      ]
     },
     "execution_count": 85,
     "metadata": {},
     "output_type": "execute_result"
    }
   ],
   "source": [
    "df['관할소방서인원'] = df.groupby([\"행정구역명\",\"년도\"])['관할소방서인원'].transform(lambda x: x.fillna(x.mean()))\n",
    "df['관할소방서인원'] = df.groupby([\"행정구역명\"])['관할소방서인원'].transform(lambda x: x.fillna(x.mean()))\n",
    "df['관할소방서인원'] = df.groupby([\"시군구\",\"년도\"])['관할소방서인원'].transform(lambda x: x.fillna(x.mean()))\n",
    "\n",
    "df['관할소방서인원'].isnull().sum()"
   ]
  },
  {
   "cell_type": "code",
   "execution_count": 87,
   "id": "embedded-faith",
   "metadata": {},
   "outputs": [
    {
     "data": {
      "text/html": [
       "<div>\n",
       "<style scoped>\n",
       "    .dataframe tbody tr th:only-of-type {\n",
       "        vertical-align: middle;\n",
       "    }\n",
       "\n",
       "    .dataframe tbody tr th {\n",
       "        vertical-align: top;\n",
       "    }\n",
       "\n",
       "    .dataframe thead th {\n",
       "        text-align: right;\n",
       "    }\n",
       "</style>\n",
       "<table border=\"1\" class=\"dataframe\">\n",
       "  <thead>\n",
       "    <tr style=\"text-align: right;\">\n",
       "      <th></th>\n",
       "      <th>Total</th>\n",
       "      <th>Percent</th>\n",
       "    </tr>\n",
       "  </thead>\n",
       "  <tbody>\n",
       "    <tr>\n",
       "      <th>아이디</th>\n",
       "      <td>0</td>\n",
       "      <td>0.0</td>\n",
       "    </tr>\n",
       "    <tr>\n",
       "      <th>화재발생일시</th>\n",
       "      <td>0</td>\n",
       "      <td>0.0</td>\n",
       "    </tr>\n",
       "    <tr>\n",
       "      <th>다중이용시설여부</th>\n",
       "      <td>0</td>\n",
       "      <td>0.0</td>\n",
       "    </tr>\n",
       "    <tr>\n",
       "      <th>공공CCTV거리</th>\n",
       "      <td>0</td>\n",
       "      <td>0.0</td>\n",
       "    </tr>\n",
       "    <tr>\n",
       "      <th>백미터이내CCTV수</th>\n",
       "      <td>0</td>\n",
       "      <td>0.0</td>\n",
       "    </tr>\n",
       "  </tbody>\n",
       "</table>\n",
       "</div>"
      ],
      "text/plain": [
       "            Total  Percent\n",
       "아이디             0      0.0\n",
       "화재발생일시          0      0.0\n",
       "다중이용시설여부        0      0.0\n",
       "공공CCTV거리        0      0.0\n",
       "백미터이내CCTV수      0      0.0"
      ]
     },
     "execution_count": 87,
     "metadata": {},
     "output_type": "execute_result"
    }
   ],
   "source": [
    "total = df[:number_of_train_data].isnull().sum().sort_values(ascending=False)\n",
    "percent = (df[:number_of_train_data].isnull().sum()/df[:number_of_train_data].isnull().count()).sort_values(ascending=False)\n",
    "missing_data = pd.concat([total, percent], axis=1, keys=['Total', 'Percent'])\n",
    "missing_data.head()"
   ]
  },
  {
   "cell_type": "code",
   "execution_count": 88,
   "id": "unnecessary-christianity",
   "metadata": {},
   "outputs": [
    {
     "data": {
      "text/html": [
       "<div>\n",
       "<style scoped>\n",
       "    .dataframe tbody tr th:only-of-type {\n",
       "        vertical-align: middle;\n",
       "    }\n",
       "\n",
       "    .dataframe tbody tr th {\n",
       "        vertical-align: top;\n",
       "    }\n",
       "\n",
       "    .dataframe thead th {\n",
       "        text-align: right;\n",
       "    }\n",
       "</style>\n",
       "<table border=\"1\" class=\"dataframe\">\n",
       "  <thead>\n",
       "    <tr style=\"text-align: right;\">\n",
       "      <th></th>\n",
       "      <th>Total</th>\n",
       "      <th>Percent</th>\n",
       "    </tr>\n",
       "  </thead>\n",
       "  <tbody>\n",
       "    <tr>\n",
       "      <th>화재발생</th>\n",
       "      <td>2957</td>\n",
       "      <td>0.047577</td>\n",
       "    </tr>\n",
       "    <tr>\n",
       "      <th>화재발생일시</th>\n",
       "      <td>0</td>\n",
       "      <td>0.000000</td>\n",
       "    </tr>\n",
       "    <tr>\n",
       "      <th>다중이용시설여부</th>\n",
       "      <td>0</td>\n",
       "      <td>0.000000</td>\n",
       "    </tr>\n",
       "    <tr>\n",
       "      <th>공공CCTV거리</th>\n",
       "      <td>0</td>\n",
       "      <td>0.000000</td>\n",
       "    </tr>\n",
       "    <tr>\n",
       "      <th>백미터이내CCTV수</th>\n",
       "      <td>0</td>\n",
       "      <td>0.000000</td>\n",
       "    </tr>\n",
       "  </tbody>\n",
       "</table>\n",
       "</div>"
      ],
      "text/plain": [
       "            Total   Percent\n",
       "화재발생         2957  0.047577\n",
       "화재발생일시          0  0.000000\n",
       "다중이용시설여부        0  0.000000\n",
       "공공CCTV거리        0  0.000000\n",
       "백미터이내CCTV수      0  0.000000"
      ]
     },
     "execution_count": 88,
     "metadata": {},
     "output_type": "execute_result"
    }
   ],
   "source": [
    "total = df.isnull().sum().sort_values(ascending=False)\n",
    "percent = (df.isnull().sum()/df.isnull().count()).sort_values(ascending=False)\n",
    "missing_data = pd.concat([total, percent], axis=1, keys=['Total', 'Percent'])\n",
    "missing_data.head()"
   ]
  },
  {
   "cell_type": "code",
   "execution_count": null,
   "id": "fitted-trouble",
   "metadata": {},
   "outputs": [],
   "source": []
  }
 ],
 "metadata": {
  "kernelspec": {
   "display_name": "Data_Science",
   "language": "python",
   "name": "data_science"
  },
  "language_info": {
   "codemirror_mode": {
    "name": "ipython",
    "version": 3
   },
   "file_extension": ".py",
   "mimetype": "text/x-python",
   "name": "python",
   "nbconvert_exporter": "python",
   "pygments_lexer": "ipython3",
   "version": "3.7.10"
  }
 },
 "nbformat": 4,
 "nbformat_minor": 5
}
