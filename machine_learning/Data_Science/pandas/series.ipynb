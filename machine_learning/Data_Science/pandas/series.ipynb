{
 "cells": [
  {
   "cell_type": "markdown",
   "id": "dynamic-bahamas",
   "metadata": {},
   "source": [
    "## Series"
   ]
  },
  {
   "cell_type": "code",
   "execution_count": 6,
   "id": "devoted-crack",
   "metadata": {},
   "outputs": [],
   "source": [
    "from pandas import Series, DataFrame\n",
    "import pandas as pd\n",
    "import numpy as np"
   ]
  },
  {
   "cell_type": "code",
   "execution_count": 3,
   "id": "addressed-protection",
   "metadata": {},
   "outputs": [
    {
     "data": {
      "text/plain": [
       "0    1\n",
       "1    2\n",
       "2    3\n",
       "3    4\n",
       "4    5\n",
       "dtype: int64"
      ]
     },
     "execution_count": 3,
     "metadata": {},
     "output_type": "execute_result"
    }
   ],
   "source": [
    "list_data = [1,2,3,4,5]\n",
    "example_obj = Series(data = list_data)\n",
    "example_obj"
   ]
  },
  {
   "cell_type": "code",
   "execution_count": 4,
   "id": "duplicate-decimal",
   "metadata": {},
   "outputs": [
    {
     "data": {
      "text/plain": [
       "a    1\n",
       "b    2\n",
       "c    3\n",
       "d    4\n",
       "e    5\n",
       "dtype: int64"
      ]
     },
     "execution_count": 4,
     "metadata": {},
     "output_type": "execute_result"
    }
   ],
   "source": [
    "list_data = [1,2,3,4,5]\n",
    "list_name = [\"a\",\"b\",\"c\",\"d\",\"e\"]\n",
    "example_obj = Series(data = list_data, index = list_name)\n",
    "example_obj"
   ]
  },
  {
   "cell_type": "code",
   "execution_count": 7,
   "id": "framed-founder",
   "metadata": {},
   "outputs": [
    {
     "data": {
      "text/plain": [
       "a    1.0\n",
       "b    2.0\n",
       "c    3.0\n",
       "d    4.0\n",
       "e    5.0\n",
       "Name: example_data, dtype: float32"
      ]
     },
     "execution_count": 7,
     "metadata": {},
     "output_type": "execute_result"
    }
   ],
   "source": [
    "dic_data = {\"a\":1 , \"b\":2, \"c\":3, \"d\":4, \"e\":5}\n",
    "example_obj = Series(dic_data, dtype=np.float32, name=\"example_data\")\n",
    "example_obj"
   ]
  },
  {
   "cell_type": "code",
   "execution_count": 8,
   "id": "corrected-turning",
   "metadata": {},
   "outputs": [
    {
     "data": {
      "text/plain": [
       "1.0"
      ]
     },
     "execution_count": 8,
     "metadata": {},
     "output_type": "execute_result"
    }
   ],
   "source": [
    "example_obj[\"a\"]"
   ]
  },
  {
   "cell_type": "code",
   "execution_count": 10,
   "id": "sunset-maryland",
   "metadata": {},
   "outputs": [
    {
     "data": {
      "text/plain": [
       "a    3.2\n",
       "b    2.0\n",
       "c    3.0\n",
       "d    4.0\n",
       "e    5.0\n",
       "Name: example_data, dtype: float32"
      ]
     },
     "execution_count": 10,
     "metadata": {},
     "output_type": "execute_result"
    }
   ],
   "source": [
    "example_obj[\"a\"] = 3.2\n",
    "example_obj"
   ]
  },
  {
   "cell_type": "code",
   "execution_count": 11,
   "id": "seasonal-breach",
   "metadata": {},
   "outputs": [
    {
     "data": {
      "text/plain": [
       "array([3.2, 2. , 3. , 4. , 5. ], dtype=float32)"
      ]
     },
     "execution_count": 11,
     "metadata": {},
     "output_type": "execute_result"
    }
   ],
   "source": [
    "example_obj.values"
   ]
  },
  {
   "cell_type": "code",
   "execution_count": 12,
   "id": "wound-baltimore",
   "metadata": {},
   "outputs": [
    {
     "data": {
      "text/plain": [
       "Index(['a', 'b', 'c', 'd', 'e'], dtype='object')"
      ]
     },
     "execution_count": 12,
     "metadata": {},
     "output_type": "execute_result"
    }
   ],
   "source": [
    "example_obj.index"
   ]
  },
  {
   "cell_type": "code",
   "execution_count": 14,
   "id": "excellent-there",
   "metadata": {},
   "outputs": [
    {
     "data": {
      "text/plain": [
       "alphabet\n",
       "a    3.2\n",
       "b    2.0\n",
       "c    3.0\n",
       "d    4.0\n",
       "e    5.0\n",
       "Name: number, dtype: float32"
      ]
     },
     "execution_count": 14,
     "metadata": {},
     "output_type": "execute_result"
    }
   ],
   "source": [
    "example_obj.name = \"number\"\n",
    "example_obj.index.name = \"alphabet\"\n",
    "example_obj"
   ]
  },
  {
   "cell_type": "code",
   "execution_count": null,
   "id": "optical-phone",
   "metadata": {},
   "outputs": [],
   "source": []
  }
 ],
 "metadata": {
  "kernelspec": {
   "display_name": "Data_Science",
   "language": "python",
   "name": "data_science"
  },
  "language_info": {
   "codemirror_mode": {
    "name": "ipython",
    "version": 3
   },
   "file_extension": ".py",
   "mimetype": "text/x-python",
   "name": "python",
   "nbconvert_exporter": "python",
   "pygments_lexer": "ipython3",
   "version": "3.7.10"
  }
 },
 "nbformat": 4,
 "nbformat_minor": 5
}
